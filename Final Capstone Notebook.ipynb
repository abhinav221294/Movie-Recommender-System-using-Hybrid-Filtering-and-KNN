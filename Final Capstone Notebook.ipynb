{
 "cells": [
  {
   "cell_type": "markdown",
   "id": "e5f2a8c0",
   "metadata": {},
   "source": [
    "<table align=\"middle\" width=100%>\n",
    "    <tr>\n",
    "        <td width=\"20%\">\n",
    "            <img src=\"GL-2.png\">\n",
    "        </td>\n",
    "        <td>\n",
    "            <div align=\"center\">\n",
    "                <font color=\"#21618C\" size=8px>\n",
    "                  <b> Movies Recommendation System <br> Team 7 </b>\n",
    "                </font>\n",
    "            </div>\n",
    "        </td>\n",
    "    </tr>\n",
    "</table>"
   ]
  },
  {
   "cell_type": "markdown",
   "id": "dc2b625c",
   "metadata": {},
   "source": [
    "## Table of Content\n",
    "\n",
    "1. **[Import Libraries](#lib)**\n",
    "2. **[Loading Dataset](#set)**\n",
    "3. **[Understanding the Dataset](#und)**\n",
    "    - 3.1 - **[Credits](#cre)**\n",
    "    - 3.2 - **[Keywords](#key)**\n",
    "    - 3.3 - **[Movies_Metadata](#met)**\n",
    "    - 3.4 - **[Ratings ](#rat)**\n",
    "4. **[Data Exploration and Data Cleaning](#cle)**\n",
    "    - 4.1 - **[Ratings](#ratc)**\n",
    "    - 4.2 - **[Movies_metadata](#metc)**\n",
    "        - 4.2.1 - **[Formatting_Metadeta_Adult](#aduc)**\n",
    "        - 4.2.2 - **[Formatting_Metadeta_Budget](#budc)**\n",
    "        - 4.2.3 - **[Formatting_Metadeta_Genre](#genc)**\n",
    "        - 4.2.4 - **[Formatting_Metadeta_belongs_to_collection](#bocc)**\n",
    "        - 4.2.4 - **[Formatting_Metadeta_ProductionCompanies](#proc)**\n",
    "    - 4.3 - **[Credits](#crec)**\n",
    "        - 4.3.1 - **[Formatting_Credits_Cast](#casc)**  \n",
    "        - 4.3.2 - **[Formatting_Credits_Crew](#crewc)**\n",
    "    - 4.4 - **[Merging all Dataframes](#mergc)**\n",
    "    - 4.5 - **[Keywords](#keyc)**\n",
    "    - 4.6 - **[Overall Dataframe](#dataf)**\n",
    "        - 4.6.1 - **[Dataframe - 'dataframe'](#datada)**\n",
    "5. **[Outlier Detection](#outc)**\n",
    "6. **[Normality Test](#norm)**\n",
    "7. **[Data Visualisation](#visu)**\n",
    "8. **[Multicollinearity](#mulco)**\n",
    "    - 8.1 - **[Correlation Matrix](#corrm)**\n",
    "    - 8.2 - **[Variance_Inflation_Factor](#vif)**\n",
    "9. **[Mysql Connector](#mysq)**\n",
    "10. **[Movie Recommendation System - Recommendation Techniques](#mrs)**\n",
    "    - 10.1 - **[K-Nearest Neighbours Supervised Algorithm](#knn)**\n",
    "    - 10.2 - **[Content Based Filtering Technique](#content)**\n",
    "    - 10.3 - **[Hybrid Recommendation Systemn](#hybrid)**\n",
    "        - 10.3.1 - **[Content Based Filtering](#cbfhy)**\n",
    "        - 10.3.2 - **[Collaborative Filtering](#cfhy)**\n",
    "        - 10.3.3 - **[Hybrid Filtration](#hfhy)**"
   ]
  },
  {
   "cell_type": "markdown",
   "id": "c17ce0cb",
   "metadata": {},
   "source": [
    "# Movie Recommendation System"
   ]
  },
  {
   "cell_type": "markdown",
   "id": "51f6a9cc",
   "metadata": {},
   "source": [
    "<img src=\"online-streaming-movie.png\" width=\"200\" height=\"100\" align='left'>\n",
    "\n",
    "<b>\n",
    "    \n",
    "Movie recommendation system is a personalized recommendation system where we suggest movies based on individual choices and interest.\n",
    "</b>\n",
    "\n",
    "<b>\n",
    "    \n",
    "It is a Machine Learning-based approach for filtering or predicting the users’ film preferences based on their historic choices and action. \n",
    "          It’s the latest filtration technique that predicts the possible movie choices of the particular user and their preferences towards a movie.\n",
    "</b>"
   ]
  },
  {
   "cell_type": "markdown",
   "id": "27adaa46",
   "metadata": {},
   "source": [
    "<a id=\"lib\"></a>\n",
    "# 1. Import Libraries"
   ]
  },
  {
   "cell_type": "markdown",
   "id": "8c5e0b5b",
   "metadata": {},
   "source": [
    "<table align=\"left\">\n",
    "    <tr>\n",
    "        <td width=\"8%\">\n",
    "            <img src=\"todo.png\">\n",
    "        </td>\n",
    "        <td>\n",
    "            <div align=\"left\", style=\"font-size:120%\">\n",
    "                <font color=\"#21618C\">\n",
    "                    <b>Import the required libraries and functions.\n",
    "                    </b>\n",
    "                </font>\n",
    "            </div>\n",
    "        </td>\n",
    "    </tr>\n",
    "</table>"
   ]
  },
  {
   "cell_type": "code",
   "execution_count": 1,
   "id": "89af3efb",
   "metadata": {},
   "outputs": [],
   "source": [
    "# Importing the Required Libraries\n",
    "import numpy as np\n",
    "import pandas as pd\n",
    "import matplotlib.pyplot as plt\n",
    "import seaborn as sns\n",
    "import scipy as stats"
   ]
  },
  {
   "cell_type": "markdown",
   "id": "9b4108da",
   "metadata": {},
   "source": [
    "<a id=\"set\"></a>\n",
    "# 2. Loading Dataset"
   ]
  },
  {
   "cell_type": "code",
   "execution_count": 3,
   "id": "4232097d",
   "metadata": {},
   "outputs": [
    {
     "ename": "FileNotFoundError",
     "evalue": "[Errno 2] No such file or directory: 'keywords.csv'",
     "output_type": "error",
     "traceback": [
      "\u001b[1;31m---------------------------------------------------------------------------\u001b[0m",
      "\u001b[1;31mFileNotFoundError\u001b[0m                         Traceback (most recent call last)",
      "\u001b[1;32m~\\AppData\\Local\\Temp\\ipykernel_21476\\2340489822.py\u001b[0m in \u001b[0;36m<module>\u001b[1;34m\u001b[0m\n\u001b[0;32m      1\u001b[0m \u001b[1;31m# Loading the Dataset\u001b[0m\u001b[1;33m\u001b[0m\u001b[1;33m\u001b[0m\u001b[0m\n\u001b[0;32m      2\u001b[0m \u001b[0mcredits\u001b[0m \u001b[1;33m=\u001b[0m \u001b[0mpd\u001b[0m\u001b[1;33m.\u001b[0m\u001b[0mread_csv\u001b[0m\u001b[1;33m(\u001b[0m\u001b[1;34m'credits.csv'\u001b[0m\u001b[1;33m)\u001b[0m\u001b[1;33m\u001b[0m\u001b[1;33m\u001b[0m\u001b[0m\n\u001b[1;32m----> 3\u001b[1;33m \u001b[0mKeywords\u001b[0m \u001b[1;33m=\u001b[0m \u001b[0mpd\u001b[0m\u001b[1;33m.\u001b[0m\u001b[0mread_csv\u001b[0m\u001b[1;33m(\u001b[0m\u001b[1;34m'keywords.csv'\u001b[0m\u001b[1;33m)\u001b[0m\u001b[1;33m\u001b[0m\u001b[1;33m\u001b[0m\u001b[0m\n\u001b[0m\u001b[0;32m      4\u001b[0m \u001b[1;31m#links = pd.read_csv('links.csv')\u001b[0m\u001b[1;33m\u001b[0m\u001b[1;33m\u001b[0m\u001b[0m\n\u001b[0;32m      5\u001b[0m \u001b[1;31m# links_small = pd.read_csv('Dataset/links_small.csv') same as links\u001b[0m\u001b[1;33m\u001b[0m\u001b[1;33m\u001b[0m\u001b[0m\n",
      "\u001b[1;32m~\\anaconda3\\lib\\site-packages\\pandas\\util\\_decorators.py\u001b[0m in \u001b[0;36mwrapper\u001b[1;34m(*args, **kwargs)\u001b[0m\n\u001b[0;32m    209\u001b[0m                 \u001b[1;32melse\u001b[0m\u001b[1;33m:\u001b[0m\u001b[1;33m\u001b[0m\u001b[1;33m\u001b[0m\u001b[0m\n\u001b[0;32m    210\u001b[0m                     \u001b[0mkwargs\u001b[0m\u001b[1;33m[\u001b[0m\u001b[0mnew_arg_name\u001b[0m\u001b[1;33m]\u001b[0m \u001b[1;33m=\u001b[0m \u001b[0mnew_arg_value\u001b[0m\u001b[1;33m\u001b[0m\u001b[1;33m\u001b[0m\u001b[0m\n\u001b[1;32m--> 211\u001b[1;33m             \u001b[1;32mreturn\u001b[0m \u001b[0mfunc\u001b[0m\u001b[1;33m(\u001b[0m\u001b[1;33m*\u001b[0m\u001b[0margs\u001b[0m\u001b[1;33m,\u001b[0m \u001b[1;33m**\u001b[0m\u001b[0mkwargs\u001b[0m\u001b[1;33m)\u001b[0m\u001b[1;33m\u001b[0m\u001b[1;33m\u001b[0m\u001b[0m\n\u001b[0m\u001b[0;32m    212\u001b[0m \u001b[1;33m\u001b[0m\u001b[0m\n\u001b[0;32m    213\u001b[0m         \u001b[1;32mreturn\u001b[0m \u001b[0mcast\u001b[0m\u001b[1;33m(\u001b[0m\u001b[0mF\u001b[0m\u001b[1;33m,\u001b[0m \u001b[0mwrapper\u001b[0m\u001b[1;33m)\u001b[0m\u001b[1;33m\u001b[0m\u001b[1;33m\u001b[0m\u001b[0m\n",
      "\u001b[1;32m~\\anaconda3\\lib\\site-packages\\pandas\\util\\_decorators.py\u001b[0m in \u001b[0;36mwrapper\u001b[1;34m(*args, **kwargs)\u001b[0m\n\u001b[0;32m    329\u001b[0m                     \u001b[0mstacklevel\u001b[0m\u001b[1;33m=\u001b[0m\u001b[0mfind_stack_level\u001b[0m\u001b[1;33m(\u001b[0m\u001b[1;33m)\u001b[0m\u001b[1;33m,\u001b[0m\u001b[1;33m\u001b[0m\u001b[1;33m\u001b[0m\u001b[0m\n\u001b[0;32m    330\u001b[0m                 )\n\u001b[1;32m--> 331\u001b[1;33m             \u001b[1;32mreturn\u001b[0m \u001b[0mfunc\u001b[0m\u001b[1;33m(\u001b[0m\u001b[1;33m*\u001b[0m\u001b[0margs\u001b[0m\u001b[1;33m,\u001b[0m \u001b[1;33m**\u001b[0m\u001b[0mkwargs\u001b[0m\u001b[1;33m)\u001b[0m\u001b[1;33m\u001b[0m\u001b[1;33m\u001b[0m\u001b[0m\n\u001b[0m\u001b[0;32m    332\u001b[0m \u001b[1;33m\u001b[0m\u001b[0m\n\u001b[0;32m    333\u001b[0m         \u001b[1;31m# error: \"Callable[[VarArg(Any), KwArg(Any)], Any]\" has no\u001b[0m\u001b[1;33m\u001b[0m\u001b[1;33m\u001b[0m\u001b[0m\n",
      "\u001b[1;32m~\\anaconda3\\lib\\site-packages\\pandas\\io\\parsers\\readers.py\u001b[0m in \u001b[0;36mread_csv\u001b[1;34m(filepath_or_buffer, sep, delimiter, header, names, index_col, usecols, squeeze, prefix, mangle_dupe_cols, dtype, engine, converters, true_values, false_values, skipinitialspace, skiprows, skipfooter, nrows, na_values, keep_default_na, na_filter, verbose, skip_blank_lines, parse_dates, infer_datetime_format, keep_date_col, date_parser, dayfirst, cache_dates, iterator, chunksize, compression, thousands, decimal, lineterminator, quotechar, quoting, doublequote, escapechar, comment, encoding, encoding_errors, dialect, error_bad_lines, warn_bad_lines, on_bad_lines, delim_whitespace, low_memory, memory_map, float_precision, storage_options)\u001b[0m\n\u001b[0;32m    948\u001b[0m     \u001b[0mkwds\u001b[0m\u001b[1;33m.\u001b[0m\u001b[0mupdate\u001b[0m\u001b[1;33m(\u001b[0m\u001b[0mkwds_defaults\u001b[0m\u001b[1;33m)\u001b[0m\u001b[1;33m\u001b[0m\u001b[1;33m\u001b[0m\u001b[0m\n\u001b[0;32m    949\u001b[0m \u001b[1;33m\u001b[0m\u001b[0m\n\u001b[1;32m--> 950\u001b[1;33m     \u001b[1;32mreturn\u001b[0m \u001b[0m_read\u001b[0m\u001b[1;33m(\u001b[0m\u001b[0mfilepath_or_buffer\u001b[0m\u001b[1;33m,\u001b[0m \u001b[0mkwds\u001b[0m\u001b[1;33m)\u001b[0m\u001b[1;33m\u001b[0m\u001b[1;33m\u001b[0m\u001b[0m\n\u001b[0m\u001b[0;32m    951\u001b[0m \u001b[1;33m\u001b[0m\u001b[0m\n\u001b[0;32m    952\u001b[0m \u001b[1;33m\u001b[0m\u001b[0m\n",
      "\u001b[1;32m~\\anaconda3\\lib\\site-packages\\pandas\\io\\parsers\\readers.py\u001b[0m in \u001b[0;36m_read\u001b[1;34m(filepath_or_buffer, kwds)\u001b[0m\n\u001b[0;32m    603\u001b[0m \u001b[1;33m\u001b[0m\u001b[0m\n\u001b[0;32m    604\u001b[0m     \u001b[1;31m# Create the parser.\u001b[0m\u001b[1;33m\u001b[0m\u001b[1;33m\u001b[0m\u001b[0m\n\u001b[1;32m--> 605\u001b[1;33m     \u001b[0mparser\u001b[0m \u001b[1;33m=\u001b[0m \u001b[0mTextFileReader\u001b[0m\u001b[1;33m(\u001b[0m\u001b[0mfilepath_or_buffer\u001b[0m\u001b[1;33m,\u001b[0m \u001b[1;33m**\u001b[0m\u001b[0mkwds\u001b[0m\u001b[1;33m)\u001b[0m\u001b[1;33m\u001b[0m\u001b[1;33m\u001b[0m\u001b[0m\n\u001b[0m\u001b[0;32m    606\u001b[0m \u001b[1;33m\u001b[0m\u001b[0m\n\u001b[0;32m    607\u001b[0m     \u001b[1;32mif\u001b[0m \u001b[0mchunksize\u001b[0m \u001b[1;32mor\u001b[0m \u001b[0miterator\u001b[0m\u001b[1;33m:\u001b[0m\u001b[1;33m\u001b[0m\u001b[1;33m\u001b[0m\u001b[0m\n",
      "\u001b[1;32m~\\anaconda3\\lib\\site-packages\\pandas\\io\\parsers\\readers.py\u001b[0m in \u001b[0;36m__init__\u001b[1;34m(self, f, engine, **kwds)\u001b[0m\n\u001b[0;32m   1440\u001b[0m \u001b[1;33m\u001b[0m\u001b[0m\n\u001b[0;32m   1441\u001b[0m         \u001b[0mself\u001b[0m\u001b[1;33m.\u001b[0m\u001b[0mhandles\u001b[0m\u001b[1;33m:\u001b[0m \u001b[0mIOHandles\u001b[0m \u001b[1;33m|\u001b[0m \u001b[1;32mNone\u001b[0m \u001b[1;33m=\u001b[0m \u001b[1;32mNone\u001b[0m\u001b[1;33m\u001b[0m\u001b[1;33m\u001b[0m\u001b[0m\n\u001b[1;32m-> 1442\u001b[1;33m         \u001b[0mself\u001b[0m\u001b[1;33m.\u001b[0m\u001b[0m_engine\u001b[0m \u001b[1;33m=\u001b[0m \u001b[0mself\u001b[0m\u001b[1;33m.\u001b[0m\u001b[0m_make_engine\u001b[0m\u001b[1;33m(\u001b[0m\u001b[0mf\u001b[0m\u001b[1;33m,\u001b[0m \u001b[0mself\u001b[0m\u001b[1;33m.\u001b[0m\u001b[0mengine\u001b[0m\u001b[1;33m)\u001b[0m\u001b[1;33m\u001b[0m\u001b[1;33m\u001b[0m\u001b[0m\n\u001b[0m\u001b[0;32m   1443\u001b[0m \u001b[1;33m\u001b[0m\u001b[0m\n\u001b[0;32m   1444\u001b[0m     \u001b[1;32mdef\u001b[0m \u001b[0mclose\u001b[0m\u001b[1;33m(\u001b[0m\u001b[0mself\u001b[0m\u001b[1;33m)\u001b[0m \u001b[1;33m->\u001b[0m \u001b[1;32mNone\u001b[0m\u001b[1;33m:\u001b[0m\u001b[1;33m\u001b[0m\u001b[1;33m\u001b[0m\u001b[0m\n",
      "\u001b[1;32m~\\anaconda3\\lib\\site-packages\\pandas\\io\\parsers\\readers.py\u001b[0m in \u001b[0;36m_make_engine\u001b[1;34m(self, f, engine)\u001b[0m\n\u001b[0;32m   1733\u001b[0m                 \u001b[1;32mif\u001b[0m \u001b[1;34m\"b\"\u001b[0m \u001b[1;32mnot\u001b[0m \u001b[1;32min\u001b[0m \u001b[0mmode\u001b[0m\u001b[1;33m:\u001b[0m\u001b[1;33m\u001b[0m\u001b[1;33m\u001b[0m\u001b[0m\n\u001b[0;32m   1734\u001b[0m                     \u001b[0mmode\u001b[0m \u001b[1;33m+=\u001b[0m \u001b[1;34m\"b\"\u001b[0m\u001b[1;33m\u001b[0m\u001b[1;33m\u001b[0m\u001b[0m\n\u001b[1;32m-> 1735\u001b[1;33m             self.handles = get_handle(\n\u001b[0m\u001b[0;32m   1736\u001b[0m                 \u001b[0mf\u001b[0m\u001b[1;33m,\u001b[0m\u001b[1;33m\u001b[0m\u001b[1;33m\u001b[0m\u001b[0m\n\u001b[0;32m   1737\u001b[0m                 \u001b[0mmode\u001b[0m\u001b[1;33m,\u001b[0m\u001b[1;33m\u001b[0m\u001b[1;33m\u001b[0m\u001b[0m\n",
      "\u001b[1;32m~\\anaconda3\\lib\\site-packages\\pandas\\io\\common.py\u001b[0m in \u001b[0;36mget_handle\u001b[1;34m(path_or_buf, mode, encoding, compression, memory_map, is_text, errors, storage_options)\u001b[0m\n\u001b[0;32m    854\u001b[0m         \u001b[1;32mif\u001b[0m \u001b[0mioargs\u001b[0m\u001b[1;33m.\u001b[0m\u001b[0mencoding\u001b[0m \u001b[1;32mand\u001b[0m \u001b[1;34m\"b\"\u001b[0m \u001b[1;32mnot\u001b[0m \u001b[1;32min\u001b[0m \u001b[0mioargs\u001b[0m\u001b[1;33m.\u001b[0m\u001b[0mmode\u001b[0m\u001b[1;33m:\u001b[0m\u001b[1;33m\u001b[0m\u001b[1;33m\u001b[0m\u001b[0m\n\u001b[0;32m    855\u001b[0m             \u001b[1;31m# Encoding\u001b[0m\u001b[1;33m\u001b[0m\u001b[1;33m\u001b[0m\u001b[0m\n\u001b[1;32m--> 856\u001b[1;33m             handle = open(\n\u001b[0m\u001b[0;32m    857\u001b[0m                 \u001b[0mhandle\u001b[0m\u001b[1;33m,\u001b[0m\u001b[1;33m\u001b[0m\u001b[1;33m\u001b[0m\u001b[0m\n\u001b[0;32m    858\u001b[0m                 \u001b[0mioargs\u001b[0m\u001b[1;33m.\u001b[0m\u001b[0mmode\u001b[0m\u001b[1;33m,\u001b[0m\u001b[1;33m\u001b[0m\u001b[1;33m\u001b[0m\u001b[0m\n",
      "\u001b[1;31mFileNotFoundError\u001b[0m: [Errno 2] No such file or directory: 'keywords.csv'"
     ]
    }
   ],
   "source": [
    "# Loading the Dataset\n",
    "credits = pd.read_csv('credits.csv')\n",
    "Keywords = pd.read_csv('keywords.csv')\n",
    "#links = pd.read_csv('links.csv')\n",
    "# links_small = pd.read_csv('Dataset/links_small.csv') same as links\n",
    "movies_metadata = pd.read_csv('movies_metadata.csv')\n",
    "ratings = pd.read_csv('ratings.csv')\n",
    "# ratings_small = pd.read_csv('Dataset/ratings_small.csv') same as ratings"
   ]
  },
  {
   "cell_type": "markdown",
   "id": "14f2c3bd",
   "metadata": {},
   "source": [
    "<a id=\"und\"></a>\n",
    "# 3.Understanding the Dataset"
   ]
  },
  {
   "cell_type": "raw",
   "id": "9edbe7b3",
   "metadata": {},
   "source": [
    "1. movies_metadata.csv: The main Movies Metadata file. Contains information on 45,000 movies featured in the Full MovieLens dataset. Features include posters, backdrops, budget, revenue, release dates, languages, production countries and companies.\n",
    "\n",
    "2. keywords.csv: Contains the movie plot keywords for our MovieLens movies.\n",
    "\n",
    "3. credits.csv: Consists of Cast and Crew Information for all our movies.\n",
    "\n",
    "4. ratings.csv: Consists of Rating of all our movies.\n"
   ]
  },
  {
   "cell_type": "markdown",
   "id": "c4607ffe",
   "metadata": {},
   "source": [
    "<a id=\"cre\"></a>\n",
    "# 3.1.Credits "
   ]
  },
  {
   "cell_type": "code",
   "execution_count": null,
   "id": "adae9a4c",
   "metadata": {},
   "outputs": [],
   "source": [
    "credits.shape"
   ]
  },
  {
   "cell_type": "code",
   "execution_count": null,
   "id": "a0a5b01b",
   "metadata": {},
   "outputs": [],
   "source": [
    "credits.head(2)\n",
    "# columns : cast , crew , id(given from tmbd)"
   ]
  },
  {
   "cell_type": "code",
   "execution_count": null,
   "id": "bc0c36be",
   "metadata": {},
   "outputs": [],
   "source": [
    "credits.iloc[0]['cast']\n",
    "# columns : cast_id , character , credit_id , gender , id(given from tmbd) , name , order , profile path"
   ]
  },
  {
   "cell_type": "code",
   "execution_count": null,
   "id": "6b843765",
   "metadata": {},
   "outputs": [],
   "source": [
    "credits.iloc[0]['cast'].count('cast_id')\n",
    "# 13 key-value paris"
   ]
  },
  {
   "cell_type": "code",
   "execution_count": null,
   "id": "79308830",
   "metadata": {},
   "outputs": [],
   "source": [
    "credits.iloc[1]['crew']\n",
    "# columns : credit_id , department , gender ,id(given from tmbd), job, name,profile_path"
   ]
  },
  {
   "cell_type": "code",
   "execution_count": null,
   "id": "32444ac3",
   "metadata": {},
   "outputs": [],
   "source": [
    "credits.iloc[1]['crew'].count('credit_id')\n",
    "# 16 key-value pairs"
   ]
  },
  {
   "cell_type": "code",
   "execution_count": null,
   "id": "1235ae2c",
   "metadata": {},
   "outputs": [],
   "source": [
    "credits.isna().sum()"
   ]
  },
  {
   "cell_type": "markdown",
   "id": "6ee64d11",
   "metadata": {},
   "source": [
    "<a id=\"key\"></a>\n",
    "# 3.2.Keywords "
   ]
  },
  {
   "cell_type": "code",
   "execution_count": null,
   "id": "5554fd48",
   "metadata": {},
   "outputs": [],
   "source": [
    "Keywords.head(2)"
   ]
  },
  {
   "cell_type": "code",
   "execution_count": null,
   "id": "79b99e4a",
   "metadata": {},
   "outputs": [],
   "source": [
    "Keywords.shape"
   ]
  },
  {
   "cell_type": "code",
   "execution_count": null,
   "id": "d4d23ae8",
   "metadata": {},
   "outputs": [],
   "source": [
    "Keywords.iloc[0]['keywords']\n",
    "# columns : id(given from tmbd), name"
   ]
  },
  {
   "cell_type": "code",
   "execution_count": null,
   "id": "e0fd40ee",
   "metadata": {},
   "outputs": [],
   "source": [
    "Keywords.iloc[0]['keywords'].count('id')"
   ]
  },
  {
   "cell_type": "code",
   "execution_count": null,
   "id": "aade1ccc",
   "metadata": {
    "scrolled": true
   },
   "outputs": [],
   "source": [
    "Keywords.isna().sum()"
   ]
  },
  {
   "cell_type": "code",
   "execution_count": null,
   "id": "423b9666",
   "metadata": {},
   "outputs": [],
   "source": [
    "#links.head(2)\n",
    "# imdbid -> movie id given from imdb\n",
    "# tmdbid -> movie id given from tmbd"
   ]
  },
  {
   "cell_type": "code",
   "execution_count": null,
   "id": "c5852ddd",
   "metadata": {},
   "outputs": [],
   "source": [
    "#links.isna().sum()"
   ]
  },
  {
   "cell_type": "markdown",
   "id": "891f383c",
   "metadata": {},
   "source": [
    "<a id=\"met\"></a>\n",
    "# 3.3.Movies_Metadata "
   ]
  },
  {
   "cell_type": "code",
   "execution_count": null,
   "id": "bf2c79dd",
   "metadata": {},
   "outputs": [],
   "source": [
    "movies_metadata.shape"
   ]
  },
  {
   "cell_type": "code",
   "execution_count": null,
   "id": "5c52e6d6",
   "metadata": {},
   "outputs": [],
   "source": [
    "movies_metadata.head(5)"
   ]
  },
  {
   "cell_type": "code",
   "execution_count": null,
   "id": "35a6a24d",
   "metadata": {},
   "outputs": [],
   "source": [
    "movies_metadata.dtypes\n",
    "# budget -> to be int\n",
    "# release_date -> to be datetime\n",
    "# replace appropriate data to the attributes"
   ]
  },
  {
   "cell_type": "code",
   "execution_count": null,
   "id": "1dc96c5f",
   "metadata": {},
   "outputs": [],
   "source": [
    "movies_metadata['adult'].value_counts()"
   ]
  },
  {
   "cell_type": "code",
   "execution_count": null,
   "id": "2beeed9f",
   "metadata": {},
   "outputs": [],
   "source": [
    "movies_metadata['original_language'].value_counts()"
   ]
  },
  {
   "cell_type": "code",
   "execution_count": null,
   "id": "91e722a5",
   "metadata": {},
   "outputs": [],
   "source": [
    "movies_metadata['status'].value_counts()"
   ]
  },
  {
   "cell_type": "code",
   "execution_count": null,
   "id": "01392da3",
   "metadata": {},
   "outputs": [],
   "source": [
    "movies_metadata['video'].value_counts()"
   ]
  },
  {
   "cell_type": "code",
   "execution_count": null,
   "id": "74cc9da4",
   "metadata": {},
   "outputs": [],
   "source": [
    "movies_metadata.describe()"
   ]
  },
  {
   "cell_type": "code",
   "execution_count": null,
   "id": "66bc3ed4",
   "metadata": {},
   "outputs": [],
   "source": [
    "movies_metadata.iloc[0]['belongs_to_collection']\n",
    "# columns : id , name , poster_path , backdrop_path\n"
   ]
  },
  {
   "cell_type": "code",
   "execution_count": null,
   "id": "e36ef352",
   "metadata": {},
   "outputs": [],
   "source": [
    "movies_metadata.iloc[0]['genres']"
   ]
  },
  {
   "cell_type": "code",
   "execution_count": null,
   "id": "2cca36e4",
   "metadata": {},
   "outputs": [],
   "source": [
    "movies_metadata.iloc[0]['spoken_languages']"
   ]
  },
  {
   "cell_type": "code",
   "execution_count": null,
   "id": "3bf8d9c6",
   "metadata": {
    "scrolled": true
   },
   "outputs": [],
   "source": [
    "movies_metadata.isna().sum()\n",
    "# actual movie_metadata null values count"
   ]
  },
  {
   "cell_type": "markdown",
   "id": "3a63e23f",
   "metadata": {},
   "source": [
    "<a id=\"rat\"></a>\n",
    "# 3.4.Ratings "
   ]
  },
  {
   "cell_type": "code",
   "execution_count": null,
   "id": "d0265f82",
   "metadata": {},
   "outputs": [],
   "source": [
    "ratings.shape"
   ]
  },
  {
   "cell_type": "code",
   "execution_count": null,
   "id": "5701a8bb",
   "metadata": {},
   "outputs": [],
   "source": [
    "ratings.head(2)"
   ]
  },
  {
   "cell_type": "code",
   "execution_count": null,
   "id": "ca5c3ef8",
   "metadata": {},
   "outputs": [],
   "source": [
    "ratings.dtypes\n",
    "# timestamp seems irrevelant"
   ]
  },
  {
   "cell_type": "markdown",
   "id": "382e5728",
   "metadata": {},
   "source": [
    "<a id=\"cle\"></a>\n",
    "# 4.Data Exploration and Data Cleaning"
   ]
  },
  {
   "cell_type": "markdown",
   "id": "4904844d",
   "metadata": {},
   "source": [
    "<a id=\"ratc\"></a>\n",
    "# 4.1.Ratings "
   ]
  },
  {
   "cell_type": "code",
   "execution_count": null,
   "id": "53d2642b",
   "metadata": {},
   "outputs": [],
   "source": [
    "ratings_new = ratings.copy()\n",
    "ratings_new.head(5)\n",
    "\n",
    "# ratings_new is the duplicate of the ratings dataset"
   ]
  },
  {
   "cell_type": "code",
   "execution_count": null,
   "id": "387b8d8a",
   "metadata": {},
   "outputs": [],
   "source": [
    "ratings_new.isna().sum()"
   ]
  },
  {
   "cell_type": "code",
   "execution_count": null,
   "id": "8aca0dfb",
   "metadata": {},
   "outputs": [],
   "source": [
    "# removing timestamp column\n",
    "ratings_new.drop(['timestamp'], axis=1,inplace=True)"
   ]
  },
  {
   "cell_type": "code",
   "execution_count": null,
   "id": "29c0e04e",
   "metadata": {},
   "outputs": [],
   "source": [
    "ratings_new.head(5)"
   ]
  },
  {
   "cell_type": "code",
   "execution_count": null,
   "id": "e0daa38e",
   "metadata": {},
   "outputs": [],
   "source": [
    "ratings_new.columns"
   ]
  },
  {
   "cell_type": "code",
   "execution_count": null,
   "id": "55802cca",
   "metadata": {},
   "outputs": [],
   "source": [
    "ratings_new.dtypes\n",
    "# movieId -> it is tmbdid"
   ]
  },
  {
   "cell_type": "code",
   "execution_count": null,
   "id": "abfe9c8a",
   "metadata": {},
   "outputs": [],
   "source": [
    "#ratings_new.to_csv('ratings_data.csv',index=False)"
   ]
  },
  {
   "cell_type": "markdown",
   "id": "9341ac04",
   "metadata": {},
   "source": [
    "Keywords and Credits does not have null values."
   ]
  },
  {
   "cell_type": "markdown",
   "id": "429ceed8",
   "metadata": {},
   "source": [
    "<a id=\"metc\"></a>\n",
    "# 4.2.Movies_metadata "
   ]
  },
  {
   "cell_type": "code",
   "execution_count": null,
   "id": "cb3d8cf0",
   "metadata": {},
   "outputs": [],
   "source": [
    "metadata = movies_metadata.copy()\n",
    "metadata.head(2)"
   ]
  },
  {
   "cell_type": "code",
   "execution_count": null,
   "id": "23aa7f90",
   "metadata": {},
   "outputs": [],
   "source": [
    "metadata.dtypes"
   ]
  },
  {
   "cell_type": "code",
   "execution_count": null,
   "id": "6f066317",
   "metadata": {},
   "outputs": [],
   "source": [
    "metadata.columns"
   ]
  },
  {
   "cell_type": "markdown",
   "id": "66d9c8e2",
   "metadata": {},
   "source": [
    "<a id=\"aduc\"></a>\n",
    "# 4.2.1.Formatting_Metadeta_Adult "
   ]
  },
  {
   "cell_type": "markdown",
   "id": "e9be5c0c",
   "metadata": {},
   "source": [
    "<h3> Lets format the adult -> True or False "
   ]
  },
  {
   "cell_type": "code",
   "execution_count": null,
   "id": "41e74f1c",
   "metadata": {},
   "outputs": [],
   "source": [
    "metadata.adult.value_counts()"
   ]
  },
  {
   "cell_type": "code",
   "execution_count": null,
   "id": "3834cb43",
   "metadata": {},
   "outputs": [],
   "source": [
    "metadata.adult.isna().sum()\n",
    "#no missing values"
   ]
  },
  {
   "cell_type": "code",
   "execution_count": null,
   "id": "75be6d7e",
   "metadata": {},
   "outputs": [],
   "source": [
    "metadata.replace(to_replace=\" - Written by Ørnås\", value=\"False\", inplace=True)\n",
    "metadata.replace(to_replace=\" Rune Balot goes to a casino connected to the October corporation to try to wrap up her case once and for all.\", value=\"False\", inplace=True)\n",
    "metadata.replace(to_replace=\" Avalanche Sharks tells the story of a bikini contest that turns into a horrifying affair when it is hit by a shark avalanche.\", value=\"True\", inplace=True)"
   ]
  },
  {
   "cell_type": "code",
   "execution_count": null,
   "id": "a4215aba",
   "metadata": {},
   "outputs": [],
   "source": [
    "metadata.adult.value_counts()"
   ]
  },
  {
   "cell_type": "markdown",
   "id": "ebe731a3",
   "metadata": {},
   "source": [
    "<a id=\"budc\"></a>\n",
    "# 4.2.2.Formatting_Metadeta_Budget "
   ]
  },
  {
   "cell_type": "code",
   "execution_count": null,
   "id": "2f533c11",
   "metadata": {},
   "outputs": [],
   "source": [
    "metadata.replace(to_replace=\"/ff9qCepilowshEtG2GYWwzt2bs4.jpg\", value=0, inplace=True)\n",
    "metadata.replace(to_replace=\"/zV8bHuSL6WXoD6FWogP9j4x80bL.jpg\", value=0, inplace=True)\n",
    "metadata.replace(to_replace=\"/zaSf5OG7V8X8gqFvly88zDdRm46.jpg\", value=0, inplace=True)"
   ]
  },
  {
   "cell_type": "code",
   "execution_count": null,
   "id": "b661b9cb",
   "metadata": {},
   "outputs": [],
   "source": [
    "metadata['budget'] = pd.to_numeric(metadata['budget'],errors='coerce')"
   ]
  },
  {
   "cell_type": "code",
   "execution_count": null,
   "id": "57dbd2e7",
   "metadata": {},
   "outputs": [],
   "source": [
    "metadata.original_language.value_counts()  \n",
    "# it follows ISO 639-1 [two letter or three letter abbreviations]"
   ]
  },
  {
   "cell_type": "code",
   "execution_count": null,
   "id": "40820c69",
   "metadata": {},
   "outputs": [],
   "source": [
    "metadata.popularity.head(5)\n",
    "# popularity score assigned by tmbd "
   ]
  },
  {
   "cell_type": "code",
   "execution_count": null,
   "id": "a2406450",
   "metadata": {},
   "outputs": [],
   "source": [
    "metadata['popularity'] = metadata['popularity'].apply(pd.to_numeric,errors='coerce')"
   ]
  },
  {
   "cell_type": "code",
   "execution_count": null,
   "id": "5c494121",
   "metadata": {},
   "outputs": [],
   "source": [
    "metadata.popularity.dtype"
   ]
  },
  {
   "cell_type": "code",
   "execution_count": null,
   "id": "b0748884",
   "metadata": {},
   "outputs": [],
   "source": [
    "metadata.production_countries.head(4)"
   ]
  },
  {
   "cell_type": "code",
   "execution_count": null,
   "id": "00a60bef",
   "metadata": {},
   "outputs": [],
   "source": [
    "metadata.iloc[0]['production_countries']"
   ]
  },
  {
   "cell_type": "code",
   "execution_count": null,
   "id": "533de9ca",
   "metadata": {},
   "outputs": [],
   "source": [
    "metadata.production_companies.head(4)"
   ]
  },
  {
   "cell_type": "code",
   "execution_count": null,
   "id": "741ca380",
   "metadata": {},
   "outputs": [],
   "source": [
    "metadata.iloc[0]['production_companies']"
   ]
  },
  {
   "cell_type": "code",
   "execution_count": null,
   "id": "57d46e8a",
   "metadata": {},
   "outputs": [],
   "source": [
    "# converting release_date datatype\n",
    "metadata.release_date.head(10)"
   ]
  },
  {
   "cell_type": "code",
   "execution_count": null,
   "id": "d025fb7d",
   "metadata": {},
   "outputs": [],
   "source": [
    "metadata['release_date'] = pd.to_datetime(metadata['release_date'],errors='coerce')"
   ]
  },
  {
   "cell_type": "code",
   "execution_count": null,
   "id": "9c32419f",
   "metadata": {},
   "outputs": [],
   "source": [
    "metadata.release_date.dtype"
   ]
  },
  {
   "cell_type": "code",
   "execution_count": null,
   "id": "7ce2160b",
   "metadata": {},
   "outputs": [],
   "source": [
    "metadata.iloc[0]['spoken_languages']\n",
    "# the languages in which the movie is actually spoken and released"
   ]
  },
  {
   "cell_type": "code",
   "execution_count": null,
   "id": "6c162fda",
   "metadata": {},
   "outputs": [],
   "source": [
    "metadata.title.head(5)\n",
    "# official title of the movie"
   ]
  },
  {
   "cell_type": "code",
   "execution_count": null,
   "id": "1e5bb2c8",
   "metadata": {},
   "outputs": [],
   "source": [
    "metadata.video.value_counts()\n",
    "# either true or false , indicates if video is present with tmbd"
   ]
  },
  {
   "cell_type": "code",
   "execution_count": null,
   "id": "c276def8",
   "metadata": {},
   "outputs": [],
   "source": [
    "metadata.vote_average\n",
    "# average rating of the movie"
   ]
  },
  {
   "cell_type": "code",
   "execution_count": null,
   "id": "8aa8a723",
   "metadata": {},
   "outputs": [],
   "source": [
    "metadata.vote_count.head(4)\n",
    "# no of votes by the users for the movie"
   ]
  },
  {
   "cell_type": "code",
   "execution_count": null,
   "id": "fc07ffe8",
   "metadata": {},
   "outputs": [],
   "source": [
    "metadata['id'] = pd.to_numeric(metadata['id'],errors='coerce')"
   ]
  },
  {
   "cell_type": "markdown",
   "id": "7e73f4f8",
   "metadata": {},
   "source": [
    "After Filtering Metadata"
   ]
  },
  {
   "cell_type": "code",
   "execution_count": null,
   "id": "5d7ad1bf",
   "metadata": {},
   "outputs": [],
   "source": [
    "metadata.dtypes\n",
    "# All the varaibles are fixed with the correct datatype."
   ]
  },
  {
   "cell_type": "code",
   "execution_count": null,
   "id": "3371e267",
   "metadata": {},
   "outputs": [],
   "source": [
    "# which to column and what to be splitted :\n",
    "# belongs_to_collection', 'genres','production_companies',cast, crew"
   ]
  },
  {
   "cell_type": "markdown",
   "id": "676f20ca",
   "metadata": {},
   "source": [
    "<a id=\"genc\"></a>\n",
    "# 4.2.3.Formatting_Metadeta_Genre"
   ]
  },
  {
   "cell_type": "code",
   "execution_count": null,
   "id": "362739b6",
   "metadata": {},
   "outputs": [],
   "source": [
    "import ast"
   ]
  },
  {
   "cell_type": "code",
   "execution_count": null,
   "id": "ab7972b6",
   "metadata": {},
   "outputs": [],
   "source": [
    "len(metadata)"
   ]
  },
  {
   "cell_type": "code",
   "execution_count": null,
   "id": "fe200779",
   "metadata": {},
   "outputs": [],
   "source": [
    "final_names = []\n",
    "for i in range(len(metadata)):\n",
    "    ini_list=metadata.genres[i]\n",
    "    res = ast.literal_eval(ini_list)\n",
    "    if isinstance(res, list):\n",
    "        final_names.append([i['name'] for i in res])\n",
    "    elif isinstance(res,dict):\n",
    "        final_names.append([i[\"name\"]])\n",
    "        \n",
    "final_names = {\"name\":final_names}\n",
    "genre_list=pd.DataFrame(final_names)\n",
    "print(genre_list)"
   ]
  },
  {
   "cell_type": "code",
   "execution_count": null,
   "id": "a9465ffe",
   "metadata": {},
   "outputs": [],
   "source": [
    "len(genre_list)"
   ]
  },
  {
   "cell_type": "code",
   "execution_count": null,
   "id": "dfc8e0d3",
   "metadata": {},
   "outputs": [],
   "source": [
    "metadata=metadata.reset_index(drop=True).merge(genre_list.reset_index(drop=True), left_index=True, right_index=True)"
   ]
  },
  {
   "cell_type": "code",
   "execution_count": null,
   "id": "82b6ff45",
   "metadata": {},
   "outputs": [],
   "source": [
    "metadata.rename(columns={'name':'genre_name'},inplace=True)"
   ]
  },
  {
   "cell_type": "code",
   "execution_count": null,
   "id": "f7a89f44",
   "metadata": {},
   "outputs": [],
   "source": [
    "metadata.columns"
   ]
  },
  {
   "cell_type": "code",
   "execution_count": null,
   "id": "9e79dd5e",
   "metadata": {},
   "outputs": [],
   "source": [
    "metadata.head(3)"
   ]
  },
  {
   "cell_type": "markdown",
   "id": "685d4acc",
   "metadata": {},
   "source": [
    "<a id=\"bocc\"></a>\n",
    "# 4.2.4.Formatting_Metadeta_belongs_to_collection"
   ]
  },
  {
   "cell_type": "code",
   "execution_count": null,
   "id": "23746e74",
   "metadata": {},
   "outputs": [],
   "source": [
    "collection_list=pd.DataFrame(columns=['id','name','poster_path','backdrop_path'])\n",
    "collection_list"
   ]
  },
  {
   "cell_type": "code",
   "execution_count": null,
   "id": "96d49aaa",
   "metadata": {},
   "outputs": [],
   "source": [
    "for i in range(0,len(metadata)):\n",
    "    if isinstance(metadata.belongs_to_collection[i],float):\n",
    "        collection_list.loc[i]='nan'\n",
    "    elif \".\" in str(metadata.belongs_to_collection[i])[0:3]:\n",
    "        collection_list.loc[i]=float(metadata.belongs_to_collection[i])\n",
    "    else:\n",
    "        res=ast.literal_eval(str(metadata.belongs_to_collection[i]))\n",
    "        df4=pd.DataFrame.from_dict(res, orient ='index')\n",
    "        df5=df4.transpose()\n",
    "        collection_list=collection_list.append(df5)"
   ]
  },
  {
   "cell_type": "code",
   "execution_count": null,
   "id": "217992b5",
   "metadata": {},
   "outputs": [],
   "source": [
    "collection_list.rename(columns={'id':'id1','name':'collection_name'},inplace=True)"
   ]
  },
  {
   "cell_type": "code",
   "execution_count": null,
   "id": "3ed88704",
   "metadata": {},
   "outputs": [],
   "source": [
    "collection_list.head(4)"
   ]
  },
  {
   "cell_type": "code",
   "execution_count": null,
   "id": "224f1374",
   "metadata": {},
   "outputs": [],
   "source": [
    "metadata=metadata.reset_index(drop=True).merge(collection_list.reset_index(drop=True), left_index=True, right_index=True)\n",
    "metadata.head(4)"
   ]
  },
  {
   "cell_type": "code",
   "execution_count": null,
   "id": "ca01a9bb",
   "metadata": {
    "scrolled": true
   },
   "outputs": [],
   "source": [
    "metadata.columns"
   ]
  },
  {
   "cell_type": "code",
   "execution_count": null,
   "id": "47a53ef6",
   "metadata": {},
   "outputs": [],
   "source": [
    "len(metadata)"
   ]
  },
  {
   "cell_type": "markdown",
   "id": "76277850",
   "metadata": {},
   "source": [
    "<a id=\"crec\"></a>\n",
    "# 4.3.Credits "
   ]
  },
  {
   "cell_type": "markdown",
   "id": "cdd45226",
   "metadata": {},
   "source": [
    "<a id=\"casc\"></a>\n",
    "# 4.3.1.Formatting_Credits_Cast "
   ]
  },
  {
   "cell_type": "code",
   "execution_count": null,
   "id": "2a97bf86",
   "metadata": {},
   "outputs": [],
   "source": [
    "df1 = pd.DataFrame(columns=['Cast'])"
   ]
  },
  {
   "cell_type": "code",
   "execution_count": null,
   "id": "90a4f6de",
   "metadata": {},
   "outputs": [],
   "source": [
    "for i in range(0,len(credits)):\n",
    "    ini_list =credits.cast[i]\n",
    "    res = ast.literal_eval(ini_list)\n",
    "    #print(res)\n",
    "    #str2=str1\n",
    "    str1=''\n",
    "    li=[]\n",
    "    #print(len(res))\n",
    "    for j in range(0,len(res)):\n",
    "        res1=ast.literal_eval(str(res[j]))\n",
    "        str1=str1+','+res1['name']\n",
    "        #df = pd.DataFrame([str1], columns=['string_values'])\n",
    "        li.append(res1['name'])\n",
    "    #print(i)\n",
    "    #str2=str1\n",
    "    df1=df1.append([str(li)])"
   ]
  },
  {
   "cell_type": "code",
   "execution_count": null,
   "id": "68700220",
   "metadata": {},
   "outputs": [],
   "source": [
    "df1.head()"
   ]
  },
  {
   "cell_type": "code",
   "execution_count": null,
   "id": "a0a478e5",
   "metadata": {},
   "outputs": [],
   "source": [
    "df1.rename(columns={0:'cast_name'},inplace=True)"
   ]
  },
  {
   "cell_type": "code",
   "execution_count": null,
   "id": "1bb1b3b7",
   "metadata": {},
   "outputs": [],
   "source": [
    "credits=credits.reset_index(drop=True).merge(df1.reset_index(drop=True), left_index=True, right_index=True)"
   ]
  },
  {
   "cell_type": "code",
   "execution_count": null,
   "id": "adb9cec1",
   "metadata": {},
   "outputs": [],
   "source": [
    "credits.head()"
   ]
  },
  {
   "cell_type": "code",
   "execution_count": null,
   "id": "5fcf894c",
   "metadata": {},
   "outputs": [],
   "source": [
    "credits.drop(columns=['Cast'],inplace=True)"
   ]
  },
  {
   "cell_type": "code",
   "execution_count": null,
   "id": "692969f4",
   "metadata": {},
   "outputs": [],
   "source": [
    "credits.head()"
   ]
  },
  {
   "cell_type": "markdown",
   "id": "b00bac35",
   "metadata": {},
   "source": [
    "<a id=\"crewc\"></a>\n",
    "# 4.3.2.Formatting_Credits_Crew"
   ]
  },
  {
   "cell_type": "code",
   "execution_count": null,
   "id": "c6b245f6",
   "metadata": {},
   "outputs": [],
   "source": [
    "df2 = pd.DataFrame(columns=['crew'])"
   ]
  },
  {
   "cell_type": "code",
   "execution_count": null,
   "id": "1df612b9",
   "metadata": {},
   "outputs": [],
   "source": [
    "for i in range(0,len(credits)):\n",
    "    ini_list =credits.crew[i]\n",
    "    res = ast.literal_eval(ini_list)\n",
    "    #print(res)\n",
    "    #str2=str1\n",
    "    str1=''\n",
    "    li=[]\n",
    "    #print(i)\n",
    "    for j in range(0,len(res)):\n",
    "        res1=ast.literal_eval(str(res[j]))\n",
    "        str1=str1+','+res1['name']\n",
    "        #df = pd.DataFrame([str1], columns=['string_values'])\n",
    "        li.append(res1['name'])\n",
    "    #print(str1)\n",
    "    #str2=str1\n",
    "    df2=df2.append([str(li)])"
   ]
  },
  {
   "cell_type": "code",
   "execution_count": null,
   "id": "40a2bfb2",
   "metadata": {},
   "outputs": [],
   "source": [
    "df2.head()"
   ]
  },
  {
   "cell_type": "code",
   "execution_count": null,
   "id": "640fd4e2",
   "metadata": {},
   "outputs": [],
   "source": [
    "df2.rename(columns={0:'crew_name'},inplace=True)"
   ]
  },
  {
   "cell_type": "code",
   "execution_count": null,
   "id": "80f720a7",
   "metadata": {},
   "outputs": [],
   "source": [
    "df2.head()"
   ]
  },
  {
   "cell_type": "code",
   "execution_count": null,
   "id": "f08f169f",
   "metadata": {},
   "outputs": [],
   "source": [
    "df2.drop(columns=['crew'],inplace=True)"
   ]
  },
  {
   "cell_type": "code",
   "execution_count": null,
   "id": "e96198ae",
   "metadata": {},
   "outputs": [],
   "source": [
    "df2.head()"
   ]
  },
  {
   "cell_type": "code",
   "execution_count": null,
   "id": "ec92d6f1",
   "metadata": {},
   "outputs": [],
   "source": [
    "credits=credits.reset_index(drop=True).merge(df2.reset_index(drop=True), left_index=True, right_index=True)"
   ]
  },
  {
   "cell_type": "code",
   "execution_count": null,
   "id": "5a0fce61",
   "metadata": {},
   "outputs": [],
   "source": [
    "credits.columns"
   ]
  },
  {
   "cell_type": "code",
   "execution_count": null,
   "id": "ed90dfa8",
   "metadata": {},
   "outputs": [],
   "source": [
    "credits.head(4)"
   ]
  },
  {
   "cell_type": "markdown",
   "id": "7fa472e2",
   "metadata": {},
   "source": [
    "<a id=\"proc\"></a>\n",
    "# 4.2.5.Formatting_Metadeta_ProductionCompanies"
   ]
  },
  {
   "cell_type": "code",
   "execution_count": null,
   "id": "64482375",
   "metadata": {},
   "outputs": [],
   "source": [
    "df3=pd.DataFrame(['Production_Companies'])"
   ]
  },
  {
   "cell_type": "code",
   "execution_count": null,
   "id": "8cc7382a",
   "metadata": {},
   "outputs": [],
   "source": [
    "for i in range(0,len(metadata)):\n",
    "    if isinstance(metadata.production_companies[i],float):\n",
    "        li=[]\n",
    "        li.append('nan')\n",
    "    elif metadata.production_companies[i]=='False':\n",
    "        li=[]\n",
    "        li.append(metadata.production_companies.iloc[i])\n",
    "    else:\n",
    "        ini_list =metadata.production_companies[i]\n",
    "        res = ast.literal_eval(ini_list)\n",
    "        str1=''\n",
    "        li=[]\n",
    "        for j in range(0,len(res)):\n",
    "            res1=ast.literal_eval(str(res[j]))\n",
    "            str1=str1+','+res1['name']\n",
    "            li.append(res1['name'])\n",
    "    #print(i)\n",
    "    df3=df3.append([str(li)])"
   ]
  },
  {
   "cell_type": "code",
   "execution_count": null,
   "id": "b9da3b39",
   "metadata": {},
   "outputs": [],
   "source": [
    "df3.rename(columns={0:'production_companies_name'},inplace=True)"
   ]
  },
  {
   "cell_type": "code",
   "execution_count": null,
   "id": "b9276c1f",
   "metadata": {},
   "outputs": [],
   "source": [
    "df3.head()"
   ]
  },
  {
   "cell_type": "code",
   "execution_count": null,
   "id": "627fdbe5",
   "metadata": {},
   "outputs": [],
   "source": [
    "df3=df3.iloc[1:, :]"
   ]
  },
  {
   "cell_type": "code",
   "execution_count": null,
   "id": "172142c3",
   "metadata": {},
   "outputs": [],
   "source": [
    "df3.head()"
   ]
  },
  {
   "cell_type": "code",
   "execution_count": null,
   "id": "a3fe9cba",
   "metadata": {},
   "outputs": [],
   "source": [
    "metadata=metadata.reset_index(drop=True).merge(df3.reset_index(drop=True), left_index=True, right_index=True)"
   ]
  },
  {
   "cell_type": "code",
   "execution_count": null,
   "id": "62fa6048",
   "metadata": {},
   "outputs": [],
   "source": [
    "metadata.head(3)"
   ]
  },
  {
   "cell_type": "code",
   "execution_count": null,
   "id": "12b69287",
   "metadata": {},
   "outputs": [],
   "source": [
    "# The total columns present in metadata\n",
    "metadata.columns"
   ]
  },
  {
   "cell_type": "code",
   "execution_count": null,
   "id": "4788f536",
   "metadata": {},
   "outputs": [],
   "source": [
    "len(metadata)"
   ]
  },
  {
   "cell_type": "code",
   "execution_count": null,
   "id": "2e036a4f",
   "metadata": {},
   "outputs": [],
   "source": [
    "metadata.isna().sum()"
   ]
  },
  {
   "cell_type": "code",
   "execution_count": null,
   "id": "24a70342",
   "metadata": {},
   "outputs": [],
   "source": [
    "#metadata.to_excel('movies_metadata_details.xlsx',index=False)"
   ]
  },
  {
   "cell_type": "code",
   "execution_count": null,
   "id": "1e647cf7",
   "metadata": {},
   "outputs": [],
   "source": [
    "#credits.to_excel('credits_data.xlsx',index=False)"
   ]
  },
  {
   "cell_type": "code",
   "execution_count": null,
   "id": "f4003a91",
   "metadata": {},
   "outputs": [],
   "source": [
    "#ratings_new.to_excel('ratings_data.xlsx',index=False)"
   ]
  },
  {
   "cell_type": "code",
   "execution_count": null,
   "id": "833613ca",
   "metadata": {},
   "outputs": [],
   "source": [
    "len(credits)"
   ]
  },
  {
   "cell_type": "markdown",
   "id": "d18c40ef",
   "metadata": {},
   "source": [
    "<a id=\"mergc\"></a>\n",
    "# 4.4.Merging all Dataframes "
   ]
  },
  {
   "cell_type": "code",
   "execution_count": null,
   "id": "e62454af",
   "metadata": {},
   "outputs": [],
   "source": [
    "main=ratings.groupby('movieId').mean()"
   ]
  },
  {
   "cell_type": "code",
   "execution_count": null,
   "id": "2a0b515a",
   "metadata": {},
   "outputs": [],
   "source": [
    "main.drop(['userId','timestamp'],axis=1,inplace=True)"
   ]
  },
  {
   "cell_type": "code",
   "execution_count": null,
   "id": "cc60a943",
   "metadata": {},
   "outputs": [],
   "source": [
    "main['id']=main.index"
   ]
  },
  {
   "cell_type": "code",
   "execution_count": null,
   "id": "fdd903a6",
   "metadata": {},
   "outputs": [],
   "source": [
    "metadata=metadata[metadata.id!='1997-08-20']"
   ]
  },
  {
   "cell_type": "code",
   "execution_count": null,
   "id": "b173b273",
   "metadata": {},
   "outputs": [],
   "source": [
    "metadata=metadata[metadata.id!='2012-09-29']"
   ]
  },
  {
   "cell_type": "code",
   "execution_count": null,
   "id": "a39401fe",
   "metadata": {},
   "outputs": [],
   "source": [
    "metadata=metadata[metadata.id!='2014-01-01']"
   ]
  },
  {
   "cell_type": "code",
   "execution_count": null,
   "id": "2b0e18bf",
   "metadata": {},
   "outputs": [],
   "source": [
    "metadata = metadata[metadata['id'].notna()]"
   ]
  },
  {
   "cell_type": "code",
   "execution_count": null,
   "id": "eadc6092",
   "metadata": {},
   "outputs": [],
   "source": [
    "metadata[metadata.id.isna()]"
   ]
  },
  {
   "cell_type": "code",
   "execution_count": null,
   "id": "96ac2cb5",
   "metadata": {},
   "outputs": [],
   "source": [
    "metadata[metadata.index==19730]"
   ]
  },
  {
   "cell_type": "code",
   "execution_count": null,
   "id": "495d1aed",
   "metadata": {},
   "outputs": [],
   "source": [
    "metadata = metadata.astype({'id':'int64'})"
   ]
  },
  {
   "cell_type": "code",
   "execution_count": null,
   "id": "77a5dbe7",
   "metadata": {},
   "outputs": [],
   "source": [
    "credits.head()"
   ]
  },
  {
   "cell_type": "code",
   "execution_count": null,
   "id": "5302bdbc",
   "metadata": {},
   "outputs": [],
   "source": [
    "credits.head()"
   ]
  },
  {
   "cell_type": "code",
   "execution_count": null,
   "id": "c405ae90",
   "metadata": {},
   "outputs": [],
   "source": [
    "len(main.groupby('id')['id'].nunique())"
   ]
  },
  {
   "cell_type": "code",
   "execution_count": null,
   "id": "55f57cc6",
   "metadata": {},
   "outputs": [],
   "source": [
    "len(metadata)"
   ]
  },
  {
   "cell_type": "code",
   "execution_count": null,
   "id": "b2b6cd33",
   "metadata": {},
   "outputs": [],
   "source": [
    "main1=pd.merge(metadata,main,on='id',how='left')"
   ]
  },
  {
   "cell_type": "code",
   "execution_count": null,
   "id": "9ec77bba",
   "metadata": {},
   "outputs": [],
   "source": [
    "len(main1)"
   ]
  },
  {
   "cell_type": "code",
   "execution_count": null,
   "id": "1aaaf778",
   "metadata": {},
   "outputs": [],
   "source": [
    "len(credits.groupby('id')['id'].nunique())"
   ]
  },
  {
   "cell_type": "code",
   "execution_count": null,
   "id": "4cae495f",
   "metadata": {},
   "outputs": [],
   "source": [
    "len(credits)"
   ]
  },
  {
   "cell_type": "code",
   "execution_count": null,
   "id": "fdba9fc6",
   "metadata": {},
   "outputs": [],
   "source": [
    "credits.drop_duplicates(keep='first',subset='id',inplace=True)"
   ]
  },
  {
   "cell_type": "code",
   "execution_count": null,
   "id": "dc428415",
   "metadata": {},
   "outputs": [],
   "source": [
    "main1=pd.merge(main1,credits,on='id',how='left')"
   ]
  },
  {
   "cell_type": "code",
   "execution_count": null,
   "id": "6f7c2818",
   "metadata": {},
   "outputs": [],
   "source": [
    "len(main1)"
   ]
  },
  {
   "cell_type": "code",
   "execution_count": null,
   "id": "11646b43",
   "metadata": {},
   "outputs": [],
   "source": [
    "main1.head()"
   ]
  },
  {
   "cell_type": "code",
   "execution_count": null,
   "id": "86ef7539",
   "metadata": {},
   "outputs": [],
   "source": [
    "main1.drop(columns=['cast','crew'],inplace=True)"
   ]
  },
  {
   "cell_type": "code",
   "execution_count": null,
   "id": "f7d19820",
   "metadata": {},
   "outputs": [],
   "source": [
    "main1.head()"
   ]
  },
  {
   "cell_type": "code",
   "execution_count": null,
   "id": "d0e582d4",
   "metadata": {},
   "outputs": [],
   "source": [
    "credits.head(2)"
   ]
  },
  {
   "cell_type": "code",
   "execution_count": null,
   "id": "75946a82",
   "metadata": {},
   "outputs": [],
   "source": [
    "#credits_sql=credits.drop(columns=['cast','crew_x','Cast','crew_y'])"
   ]
  },
  {
   "cell_type": "code",
   "execution_count": null,
   "id": "83882b89",
   "metadata": {},
   "outputs": [],
   "source": [
    "#credits_sql.to_csv('credits_sql.csv')"
   ]
  },
  {
   "cell_type": "markdown",
   "id": "94aa3be4",
   "metadata": {},
   "source": [
    "<a id=\"keyc\"></a>\n",
    "# 4.5.Keywords "
   ]
  },
  {
   "cell_type": "code",
   "execution_count": null,
   "id": "595f825e",
   "metadata": {},
   "outputs": [],
   "source": [
    "df_keywords = Keywords[Keywords['keywords'] != '[]']\n",
    "df_keywords.reset_index(drop=True)"
   ]
  },
  {
   "cell_type": "code",
   "execution_count": null,
   "id": "6f319c32",
   "metadata": {},
   "outputs": [],
   "source": [
    "list1 =  df_keywords['keywords'].tolist()\n",
    "for i in range(len(list1)) :\n",
    "    list1[i] = ast.literal_eval(list1[i])"
   ]
  },
  {
   "cell_type": "code",
   "execution_count": null,
   "id": "39abf92a",
   "metadata": {},
   "outputs": [],
   "source": [
    "df_keywords['keywords'] = list1"
   ]
  },
  {
   "cell_type": "code",
   "execution_count": null,
   "id": "6b5d7741",
   "metadata": {},
   "outputs": [],
   "source": [
    "df_keywords_copy = df_keywords.copy()\n",
    "for i in range(0,len(df_keywords['keywords'])):\n",
    "    list1 = []\n",
    "    for j in range(len(df_keywords['keywords'].iloc[i])):\n",
    "         list1.append(df_keywords.iloc[i]['keywords'][j]['name'])\n",
    "    df_keywords_copy['keywords'].iloc[i] = list1"
   ]
  },
  {
   "cell_type": "code",
   "execution_count": null,
   "id": "a531294f",
   "metadata": {},
   "outputs": [],
   "source": [
    "df_keywords_copy.head(3)"
   ]
  },
  {
   "cell_type": "code",
   "execution_count": null,
   "id": "e94f5659",
   "metadata": {},
   "outputs": [],
   "source": [
    "df_keywords_copy.id.unique"
   ]
  },
  {
   "cell_type": "code",
   "execution_count": null,
   "id": "35320a21",
   "metadata": {},
   "outputs": [],
   "source": [
    "len(df_keywords_copy.groupby('id')['id'].nunique())"
   ]
  },
  {
   "cell_type": "code",
   "execution_count": null,
   "id": "760b3255",
   "metadata": {},
   "outputs": [],
   "source": [
    "df_keywords_copy.drop_duplicates(keep='first',subset='id',inplace=True)"
   ]
  },
  {
   "cell_type": "code",
   "execution_count": null,
   "id": "5d3a7488",
   "metadata": {},
   "outputs": [],
   "source": [
    "#df_keywords_copy.to_csv('keywords_mysql.csv',index=False)"
   ]
  },
  {
   "cell_type": "code",
   "execution_count": null,
   "id": "a6069d78",
   "metadata": {},
   "outputs": [],
   "source": [
    "main1=pd.merge(main1,df_keywords_copy,on='id',how='left')"
   ]
  },
  {
   "cell_type": "code",
   "execution_count": null,
   "id": "fa882a69",
   "metadata": {},
   "outputs": [],
   "source": [
    "main1.head()"
   ]
  },
  {
   "cell_type": "code",
   "execution_count": null,
   "id": "a3c13400",
   "metadata": {},
   "outputs": [],
   "source": [
    "#df_keywords_copy.to_csv('keywords_sql.csv')"
   ]
  },
  {
   "cell_type": "code",
   "execution_count": null,
   "id": "09e595f6",
   "metadata": {},
   "outputs": [],
   "source": [
    "main1_duplicate = main1.copy()\n",
    "main1_duplicate.head(1)\n",
    "\n",
    "#main1_duplicate.columns\n",
    "\n",
    "main1_duplicate.drop(columns=['belongs_to_collection','genres','poster_path_x','production_companies','id1','poster_path_y','backdrop_path','production_countries'],inplace=True)\n",
    "\n",
    "main1_duplicate.dtypes"
   ]
  },
  {
   "cell_type": "code",
   "execution_count": null,
   "id": "06c7c246",
   "metadata": {},
   "outputs": [],
   "source": [
    "len(main1)"
   ]
  },
  {
   "cell_type": "code",
   "execution_count": null,
   "id": "ecff9b1c",
   "metadata": {},
   "outputs": [],
   "source": [
    "main1.isnull().sum()"
   ]
  },
  {
   "cell_type": "code",
   "execution_count": null,
   "id": "4a557e14",
   "metadata": {},
   "outputs": [],
   "source": [
    "metadata.head()"
   ]
  },
  {
   "cell_type": "code",
   "execution_count": null,
   "id": "08895ce2",
   "metadata": {},
   "outputs": [],
   "source": [
    "len(metadata)"
   ]
  },
  {
   "cell_type": "markdown",
   "id": "2dec0d00",
   "metadata": {},
   "source": [
    "<a id=\"dataf\"></a>\n",
    "# 4.6.Overall Dataframe "
   ]
  },
  {
   "cell_type": "code",
   "execution_count": null,
   "id": "2c3b4aa7",
   "metadata": {},
   "outputs": [],
   "source": [
    "original_metadata = pd.DataFrame().assign(adult=metadata['adult'], budget=metadata['budget'], homepage=metadata['homepage'],\n",
    "id=metadata['id'],imdb_id=metadata['imdb_id'],original_language=metadata['original_language'],original_title=metadata['original_title'],\n",
    "overview=metadata['overview'],popularity=metadata['popularity'],production_countries=metadata['production_countries'],\n",
    "release_date=metadata['release_date'],revenue=metadata['revenue'],runtime=metadata['runtime'],\n",
    "status=metadata['status'],title=metadata['title'],video=metadata['video'],vote_average=metadata['vote_average'],vote_count=metadata['vote_count'],\n",
    "genre_name=metadata['genre_name'],collection_name=metadata['collection_name'],production_companies_name=metadata['production_companies_name'])"
   ]
  },
  {
   "cell_type": "code",
   "execution_count": null,
   "id": "722a833c",
   "metadata": {},
   "outputs": [],
   "source": [
    "metadata.to_csv('metadata_mysql.csv',index=False)"
   ]
  },
  {
   "cell_type": "code",
   "execution_count": null,
   "id": "01c66345",
   "metadata": {},
   "outputs": [],
   "source": [
    "original_metadata.head()"
   ]
  },
  {
   "cell_type": "code",
   "execution_count": null,
   "id": "4e0647b5",
   "metadata": {},
   "outputs": [],
   "source": [
    "main1.columns"
   ]
  },
  {
   "cell_type": "code",
   "execution_count": null,
   "id": "c2bd8a12",
   "metadata": {},
   "outputs": [],
   "source": [
    "original_metadata = pd.DataFrame().assign(adult=metadata['adult'], \n",
    "id=metadata['id'],original_language=metadata['original_language'],original_title=metadata['original_title'],\n",
    "overview=metadata['overview'],popularity=metadata['popularity'],production_countries=metadata['production_countries'],\n",
    "release_date=metadata['release_date'],revenue=metadata['revenue'],runtime=metadata['runtime'],\n",
    "status=metadata['status'],\n",
    "genre_name=metadata['genre_name'],collection_name=metadata['collection_name'],production_companies_name=metadata['production_companies_name'])"
   ]
  },
  {
   "cell_type": "markdown",
   "id": "96fd78ee",
   "metadata": {},
   "source": [
    "<a id=\"datada\"></a>\n",
    "# 4.6.1. Dataframe - 'dataframe'"
   ]
  },
  {
   "cell_type": "code",
   "execution_count": null,
   "id": "b05abac6",
   "metadata": {},
   "outputs": [],
   "source": [
    "dataframe = pd.DataFrame().assign(adult=main1['adult'], \n",
    "id=main1['id'],original_language=main1['original_language'],original_title=main1['original_title'],\n",
    "overview=main1['overview'],popularity=main1['popularity'],\n",
    "release_date=main1['release_date'],revenue=main1['revenue'],runtime=main1['runtime'],\n",
    "status=main1['status'],\n",
    "genre_name=main1['genre_name'],collection_name=main1['collection_name'],\n",
    "production_companies_name=main1['production_companies_name'],keywords=main1['keywords'],cast_name=main1['cast_name'],\n",
    "crew_name=main1['crew_name'],vote_average=main1['vote_average'])"
   ]
  },
  {
   "cell_type": "code",
   "execution_count": null,
   "id": "7c283735",
   "metadata": {},
   "outputs": [],
   "source": [
    "dataframe.head()"
   ]
  },
  {
   "cell_type": "code",
   "execution_count": null,
   "id": "2bd0b702",
   "metadata": {},
   "outputs": [],
   "source": [
    "dataframe.to_csv('main_dataframe.csv',index=False)"
   ]
  },
  {
   "cell_type": "code",
   "execution_count": null,
   "id": "618db511",
   "metadata": {},
   "outputs": [],
   "source": [
    "dataframe.isnull().sum()"
   ]
  },
  {
   "cell_type": "markdown",
   "id": "462a8159",
   "metadata": {},
   "source": [
    "<a id=\"outc\"></a>\n",
    "# 5.Outlier Detection"
   ]
  },
  {
   "cell_type": "code",
   "execution_count": null,
   "id": "d9f4efc3",
   "metadata": {},
   "outputs": [],
   "source": [
    "sns.boxplot(dataframe['vote_average'])"
   ]
  },
  {
   "cell_type": "code",
   "execution_count": null,
   "id": "35e1a885",
   "metadata": {},
   "outputs": [],
   "source": [
    "sns.histplot(dataframe['vote_average'])"
   ]
  },
  {
   "cell_type": "code",
   "execution_count": null,
   "id": "ba065608",
   "metadata": {},
   "outputs": [],
   "source": [
    "sns.boxplot(dataframe['runtime'])"
   ]
  },
  {
   "cell_type": "code",
   "execution_count": null,
   "id": "41cbce2c",
   "metadata": {},
   "outputs": [],
   "source": [
    "sns.histplot(dataframe['runtime'])"
   ]
  },
  {
   "cell_type": "code",
   "execution_count": null,
   "id": "ef70b813",
   "metadata": {},
   "outputs": [],
   "source": [
    "sns.boxplot(dataframe['revenue'])"
   ]
  },
  {
   "cell_type": "code",
   "execution_count": null,
   "id": "3646cfca",
   "metadata": {},
   "outputs": [],
   "source": [
    "sns.histplot(dataframe['revenue'])"
   ]
  },
  {
   "cell_type": "code",
   "execution_count": null,
   "id": "4d88b259",
   "metadata": {},
   "outputs": [],
   "source": [
    "sns.boxplot(dataframe['popularity'])"
   ]
  },
  {
   "cell_type": "code",
   "execution_count": null,
   "id": "7f6e4bbf",
   "metadata": {},
   "outputs": [],
   "source": [
    "sns.histplot(dataframe['popularity'])"
   ]
  },
  {
   "cell_type": "code",
   "execution_count": null,
   "id": "2bca7366",
   "metadata": {},
   "outputs": [],
   "source": [
    "#runtime outliers\n",
    "Q1=dataframe['runtime'].quantile(0.25)\n",
    "Q3=dataframe['runtime'].quantile(0.75)\n",
    "IQR=Q3-Q1\n",
    "print(Q1)\n",
    "print(Q3)\n",
    "print(IQR)\n",
    "Lower_Whisker = Q1-1.5*IQR\n",
    "Upper_Whisker = Q3+1.5*IQR\n",
    "print(Lower_Whisker, Upper_Whisker)"
   ]
  },
  {
   "cell_type": "code",
   "execution_count": null,
   "id": "32b84bb3",
   "metadata": {},
   "outputs": [],
   "source": [
    "out_dataframe = dataframe[dataframe['runtime']< Upper_Whisker]\n",
    "out_dataframe = dataframe[dataframe['runtime']>Lower_Whisker]"
   ]
  },
  {
   "cell_type": "code",
   "execution_count": null,
   "id": "2a8f882f",
   "metadata": {},
   "outputs": [],
   "source": [
    "len(out_dataframe)"
   ]
  },
  {
   "cell_type": "code",
   "execution_count": null,
   "id": "dd4f63c5",
   "metadata": {},
   "outputs": [],
   "source": [
    "#popularity outliers\n",
    "Q1=dataframe['popularity'].quantile(0.25)\n",
    "Q3=dataframe['popularity'].quantile(0.75)\n",
    "IQR=Q3-Q1\n",
    "print(Q1)\n",
    "print(Q3)\n",
    "print(IQR)\n",
    "Lower_Whisker = Q1-1.5*IQR\n",
    "Upper_Whisker = Q3+1.5*IQR\n",
    "print(Lower_Whisker, Upper_Whisker)"
   ]
  },
  {
   "cell_type": "code",
   "execution_count": null,
   "id": "31cf4edd",
   "metadata": {},
   "outputs": [],
   "source": [
    "out_dataframe_pop = dataframe[dataframe['popularity']< Upper_Whisker]\n",
    "out_dataframe_pop = dataframe[dataframe['popularity']>Lower_Whisker]"
   ]
  },
  {
   "cell_type": "code",
   "execution_count": null,
   "id": "2de59852",
   "metadata": {},
   "outputs": [],
   "source": [
    "out_dataframe = out_dataframe[out_dataframe['popularity']< Upper_Whisker]\n",
    "out_dataframe = out_dataframe[out_dataframe['popularity']>Lower_Whisker]"
   ]
  },
  {
   "cell_type": "code",
   "execution_count": null,
   "id": "45246683",
   "metadata": {},
   "outputs": [],
   "source": [
    "len(out_dataframe)"
   ]
  },
  {
   "cell_type": "code",
   "execution_count": null,
   "id": "f74f6910",
   "metadata": {},
   "outputs": [],
   "source": [
    "len(out_dataframe_pop)"
   ]
  },
  {
   "cell_type": "code",
   "execution_count": null,
   "id": "4d6cd4ec",
   "metadata": {},
   "outputs": [],
   "source": [
    "#vote_average outliers\n",
    "Q1=dataframe['vote_average'].quantile(0.25)\n",
    "Q3=dataframe['vote_average'].quantile(0.75)\n",
    "IQR=Q3-Q1\n",
    "print(Q1)\n",
    "print(Q3)\n",
    "print(IQR)\n",
    "Lower_Whisker = Q1-1.5*IQR\n",
    "Upper_Whisker = Q3+1.5*IQR\n",
    "print(Lower_Whisker, Upper_Whisker)"
   ]
  },
  {
   "cell_type": "code",
   "execution_count": null,
   "id": "0338bbbb",
   "metadata": {},
   "outputs": [],
   "source": [
    "out_dataframe_vote_avg = dataframe[dataframe['vote_average']< Upper_Whisker]\n",
    "out_dataframe_vote_avg = dataframe[dataframe['vote_average']>Lower_Whisker]"
   ]
  },
  {
   "cell_type": "code",
   "execution_count": null,
   "id": "f342eba9",
   "metadata": {},
   "outputs": [],
   "source": [
    "out_dataframe = out_dataframe[out_dataframe['vote_average']< Upper_Whisker]\n",
    "out_dataframe = out_dataframe[out_dataframe['vote_average']>Lower_Whisker]"
   ]
  },
  {
   "cell_type": "code",
   "execution_count": null,
   "id": "acfb134a",
   "metadata": {},
   "outputs": [],
   "source": [
    "len(out_dataframe_vote_avg)"
   ]
  },
  {
   "cell_type": "code",
   "execution_count": null,
   "id": "15784d53",
   "metadata": {},
   "outputs": [],
   "source": [
    "len(out_dataframe)"
   ]
  },
  {
   "cell_type": "code",
   "execution_count": null,
   "id": "b7b9abbe",
   "metadata": {},
   "outputs": [],
   "source": [
    "#revenue outliers\n",
    "Q1=dataframe['revenue'].quantile(0.25)\n",
    "Q3=dataframe['revenue'].quantile(0.75)\n",
    "IQR=Q3-Q1\n",
    "print(Q1)\n",
    "print(Q3)\n",
    "print(IQR)\n",
    "Lower_Whisker = Q1-1.5*IQR\n",
    "Upper_Whisker = Q3+1.5*IQR\n",
    "print(Lower_Whisker, Upper_Whisker)"
   ]
  },
  {
   "cell_type": "code",
   "execution_count": null,
   "id": "0cb3d045",
   "metadata": {},
   "outputs": [],
   "source": [
    "out_dataframe_rev = dataframe[dataframe['revenue']< Upper_Whisker]\n",
    "out_dataframe_rev = dataframe[dataframe['revenue']>Lower_Whisker]"
   ]
  },
  {
   "cell_type": "code",
   "execution_count": null,
   "id": "6980185f",
   "metadata": {},
   "outputs": [],
   "source": [
    "len(out_dataframe_rev)"
   ]
  },
  {
   "cell_type": "code",
   "execution_count": null,
   "id": "40fcfc68",
   "metadata": {},
   "outputs": [],
   "source": [
    "out_dataframe = out_dataframe[out_dataframe['revenue']< Upper_Whisker]\n",
    "out_dataframe = out_dataframe[out_dataframe['revenue']>Lower_Whisker]"
   ]
  },
  {
   "cell_type": "code",
   "execution_count": null,
   "id": "c61fe53d",
   "metadata": {},
   "outputs": [],
   "source": [
    "len(out_dataframe)"
   ]
  },
  {
   "cell_type": "code",
   "execution_count": null,
   "id": "e0518872",
   "metadata": {},
   "outputs": [],
   "source": [
    "len(dataframe)"
   ]
  },
  {
   "cell_type": "code",
   "execution_count": null,
   "id": "0d9760b7",
   "metadata": {},
   "outputs": [],
   "source": [
    "len(metadata)"
   ]
  },
  {
   "cell_type": "markdown",
   "id": "65b0a776",
   "metadata": {},
   "source": [
    "<a id=\"norm\"></a>\n",
    "# 6.Normality Test"
   ]
  },
  {
   "cell_type": "code",
   "execution_count": null,
   "id": "fc40f0b2",
   "metadata": {},
   "outputs": [],
   "source": [
    "from scipy.stats import shapiro\n",
    "from numpy.random import seed\n",
    "from numpy.random import poisson\n",
    "\n",
    "#set seed (e.g. make this example reproducible)\n",
    "seed(0)\n",
    "\n",
    "#generate dataset of 100 values that follow a Poisson distribution with mean=5\n",
    "data = dataframe.popularity.sample(n=5000)"
   ]
  },
  {
   "cell_type": "code",
   "execution_count": null,
   "id": "f0444db0",
   "metadata": {},
   "outputs": [],
   "source": [
    "st,pval=shapiro(data)\n",
    "if pval<0.05:\n",
    "    print('Data not normal')\n",
    "else:\n",
    "    print('Data normal')"
   ]
  },
  {
   "cell_type": "code",
   "execution_count": null,
   "id": "1815e8cb",
   "metadata": {},
   "outputs": [],
   "source": [
    "data = dataframe.revenue.sample(n=5000)\n",
    "st,pval=shapiro(data)\n",
    "if pval<0.05:\n",
    "    print('Data not normal')\n",
    "else:\n",
    "    print('Data normal')"
   ]
  },
  {
   "cell_type": "code",
   "execution_count": null,
   "id": "5f91fca4",
   "metadata": {},
   "outputs": [],
   "source": [
    "data = dataframe.vote_average.sample(n=4999)\n",
    "st,pval=shapiro(data)\n",
    "if pval<0.05:\n",
    "    print('Data not normal')\n",
    "else:\n",
    "    print('Data normal')"
   ]
  },
  {
   "cell_type": "code",
   "execution_count": null,
   "id": "be74b670",
   "metadata": {},
   "outputs": [],
   "source": [
    "data = dataframe.runtime.sample(n=4999)\n",
    "st,pval=shapiro(data)\n",
    "if pval<0.05:\n",
    "    print('Data not normal')\n",
    "else:\n",
    "    print('Data normal')"
   ]
  },
  {
   "cell_type": "code",
   "execution_count": null,
   "id": "d0bd24ee",
   "metadata": {},
   "outputs": [],
   "source": [
    "sns.histplot(dataframe.runtime)"
   ]
  },
  {
   "cell_type": "markdown",
   "id": "e31af4e9",
   "metadata": {},
   "source": [
    "<a id=\"visu\"></a>\n",
    "# 7.Data Visualisation"
   ]
  },
  {
   "cell_type": "markdown",
   "id": "80f9de04",
   "metadata": {},
   "source": [
    "Movies having the genre as Drama are maximum in number compared to others."
   ]
  },
  {
   "cell_type": "markdown",
   "id": "8b23b674",
   "metadata": {},
   "source": [
    "The second highest count will be the Comedy genre."
   ]
  },
  {
   "cell_type": "code",
   "execution_count": null,
   "id": "98984c63",
   "metadata": {},
   "outputs": [],
   "source": [
    "plt.subplots(figsize=(12,10))\n",
    "list1 = []\n",
    "for i in dataframe['genre_name']:\n",
    "    list1.extend(i)\n",
    "ax = pd.Series(list1).value_counts()[:10].sort_values(ascending=True).plot.barh(width=0.9,color=sns.color_palette('hls',10))\n",
    "for i, v in enumerate(pd.Series(list1).value_counts()[:10].sort_values(ascending=True).values): \n",
    "    ax.text(.8, i, v,fontsize=12,color='white',weight='bold')\n",
    "plt.title('Top Genres')\n",
    "plt.show()"
   ]
  },
  {
   "cell_type": "markdown",
   "id": "b890133d",
   "metadata": {},
   "source": [
    "Relation between Runtime and Budget"
   ]
  },
  {
   "cell_type": "code",
   "execution_count": null,
   "id": "35e9c68f",
   "metadata": {},
   "outputs": [],
   "source": [
    "sns.scatterplot(\n",
    "    data=metadata, x=\"runtime\", y=\"budget\",\n",
    "    sizes=(20, 100), hue_norm=(0, 7), legend=\"full\",color=\"green\",marker=\"+\",palette=\"deep\")"
   ]
  },
  {
   "cell_type": "markdown",
   "id": "c0004c41",
   "metadata": {},
   "source": [
    "Observations : 1. Runtime increases - Budget decreases                                                              2. 70 - 150 approx Runtime some falls under lower budget but                                             budget also it keeps increasing for some \n",
    "               3.There are more outliers for Runtime"
   ]
  },
  {
   "cell_type": "markdown",
   "id": "74f7fdfe",
   "metadata": {},
   "source": [
    "Relation between Revenue and Budget"
   ]
  },
  {
   "cell_type": "code",
   "execution_count": null,
   "id": "1afc3362",
   "metadata": {},
   "outputs": [],
   "source": [
    "sns.scatterplot(\n",
    "    data=metadata, x=\"revenue\", y=\"budget\",\n",
    "    sizes=(20, 100), hue_norm=(0, 7), legend=\"full\",color=\"Red\",marker=\"o\",palette=\"deep\")"
   ]
  },
  {
   "cell_type": "markdown",
   "id": "e356cbce",
   "metadata": {},
   "source": [
    "Observations : Low buget movies produces Low revenue"
   ]
  },
  {
   "cell_type": "markdown",
   "id": "3876bdbf",
   "metadata": {},
   "source": [
    "<a id=\"mulco\"></a>\n",
    "# 8.Multicollinearity"
   ]
  },
  {
   "cell_type": "markdown",
   "id": "f711d74a",
   "metadata": {},
   "source": [
    "<a id=\"corrm\"></a>\n",
    "# 8.1. Correlation Matrix"
   ]
  },
  {
   "cell_type": "raw",
   "id": "7f4ad505",
   "metadata": {},
   "source": [
    "Also checks the Multi-collinearity for Numerical and Categorical Variables."
   ]
  },
  {
   "cell_type": "code",
   "execution_count": null,
   "id": "1cc4d62d",
   "metadata": {},
   "outputs": [],
   "source": [
    "dataframe_copy = dataframe.copy()\n",
    "dataframe_copy.head(3)"
   ]
  },
  {
   "cell_type": "code",
   "execution_count": null,
   "id": "06664052",
   "metadata": {},
   "outputs": [],
   "source": [
    "dataframe_copy.columns"
   ]
  },
  {
   "cell_type": "code",
   "execution_count": null,
   "id": "ca928e62",
   "metadata": {},
   "outputs": [],
   "source": [
    "dataframe_copy.original_language.value_counts()"
   ]
  },
  {
   "cell_type": "code",
   "execution_count": null,
   "id": "41c04048",
   "metadata": {},
   "outputs": [],
   "source": [
    "new_encoded_values = pd.get_dummies(data=dataframe_copy, prefix=None, prefix_sep='_', dummy_na=False, columns=['adult','status'], sparse=False, drop_first=False, dtype=None)\n",
    "new_encoded_values.head(2)"
   ]
  },
  {
   "cell_type": "code",
   "execution_count": null,
   "id": "86913715",
   "metadata": {},
   "outputs": [],
   "source": [
    "correlated = new_encoded_values.corr()\n",
    "fig, ax = plt.subplots(figsize=(20,20))\n",
    "sns.heatmap(correlated,annot=True)\n",
    "plt.show()\n",
    "# write observations for categorical variables correlation based on eigen values"
   ]
  },
  {
   "cell_type": "code",
   "execution_count": null,
   "id": "6b9b78d1",
   "metadata": {},
   "outputs": [],
   "source": [
    "# Popularity , revenue , vote_average -> VIF to check multi-collinearity"
   ]
  },
  {
   "cell_type": "code",
   "execution_count": null,
   "id": "efe70741",
   "metadata": {},
   "outputs": [],
   "source": [
    "data_numeric_val = dataframe_copy.select_dtypes(include=np.number)"
   ]
  },
  {
   "cell_type": "code",
   "execution_count": null,
   "id": "d3edfc8d",
   "metadata": {},
   "outputs": [],
   "source": [
    "data_numeric_val.columns"
   ]
  },
  {
   "cell_type": "code",
   "execution_count": null,
   "id": "d382e2e4",
   "metadata": {
    "scrolled": true
   },
   "outputs": [],
   "source": [
    "data_numeric_val.isna().sum()"
   ]
  },
  {
   "cell_type": "code",
   "execution_count": null,
   "id": "134f8eb3",
   "metadata": {},
   "outputs": [],
   "source": [
    "data_numeric_val.dropna(subset=[\"popularity\",\"revenue\",\"runtime\",\"vote_average\"],inplace=True)"
   ]
  },
  {
   "cell_type": "code",
   "execution_count": null,
   "id": "16ed83b4",
   "metadata": {},
   "outputs": [],
   "source": [
    "data_numeric_val.isna().sum()"
   ]
  },
  {
   "cell_type": "markdown",
   "id": "a9634ae7",
   "metadata": {},
   "source": [
    "<a id=\"vif\"></a>\n",
    "# 8.2.Variance_Inflation_Factor"
   ]
  },
  {
   "cell_type": "code",
   "execution_count": null,
   "id": "faf0a074",
   "metadata": {},
   "outputs": [],
   "source": [
    "from statsmodels.stats.outliers_influence import variance_inflation_factor\n",
    "\n",
    "def calc_vif(X):\n",
    "    vif = pd.DataFrame()\n",
    "    vif[\"variables\"] = X.columns\n",
    "    vif[\"VIF\"] = [variance_inflation_factor(X.values, i) for i in range(X.shape[1])]\n",
    "    return(vif)\n",
    "\n",
    "\n",
    "\n",
    "X = data_numeric_val.iloc[:,:-1]\n",
    "calc_vif(X)"
   ]
  },
  {
   "cell_type": "markdown",
   "id": "e8684c47",
   "metadata": {},
   "source": [
    "<a id=\"mysq\"></a>\n",
    "# 9.Mysql Connector"
   ]
  },
  {
   "cell_type": "code",
   "execution_count": null,
   "id": "4c98dac2",
   "metadata": {},
   "outputs": [],
   "source": [
    "import mysql.connector"
   ]
  },
  {
   "cell_type": "code",
   "execution_count": null,
   "id": "ed0a06b8",
   "metadata": {},
   "outputs": [],
   "source": [
    "mydb = mysql.connector.connect(\n",
    "  host=\"127.0.0.1\",\n",
    "  user=\"root\",\n",
    "  password=\"root\",\n",
    "  database=\"capstone\"\n",
    ")\n",
    "\n",
    "print(mydb)"
   ]
  },
  {
   "cell_type": "code",
   "execution_count": null,
   "id": "fc790b6b",
   "metadata": {},
   "outputs": [],
   "source": [
    "query=\"SELECT * FROM df1\"\n",
    "df_mysql = pd.read_sql(query, con = mydb)"
   ]
  },
  {
   "cell_type": "code",
   "execution_count": null,
   "id": "ab0543bd",
   "metadata": {},
   "outputs": [],
   "source": [
    "df_mysql.head()"
   ]
  },
  {
   "cell_type": "code",
   "execution_count": null,
   "id": "3d79f64f",
   "metadata": {},
   "outputs": [],
   "source": [
    "df_mysql.columns"
   ]
  },
  {
   "cell_type": "code",
   "execution_count": null,
   "id": "1e45d989",
   "metadata": {},
   "outputs": [],
   "source": [
    "df_mysql.to_csv('final_data.csv',index=False)"
   ]
  },
  {
   "cell_type": "code",
   "execution_count": null,
   "id": "b507d3db",
   "metadata": {},
   "outputs": [],
   "source": [
    "len(df_mysql)"
   ]
  },
  {
   "cell_type": "markdown",
   "id": "01261d80",
   "metadata": {},
   "source": [
    "<a id=\"mrs\"></a>\n",
    "# 10. Movie Recommendation System - Recommendation Techniques"
   ]
  },
  {
   "cell_type": "markdown",
   "id": "e058d28a",
   "metadata": {},
   "source": [
    "The Recommendation Techniques used in this project are:\n",
    "   1. Content-based filtering technique\n",
    "   2. K-Nearest Neighbours Supervised Algorithm\n",
    "   3. Hybrid Filtering "
   ]
  },
  {
   "cell_type": "markdown",
   "id": "5f260fa2",
   "metadata": {},
   "source": [
    "<a id=\"knn\"></a>\n",
    "# 10.1. K-Nearest Neighbours Supervised Algorithm"
   ]
  },
  {
   "cell_type": "markdown",
   "id": "82774650",
   "metadata": {},
   "source": [
    "The k-nearest neighbors algorithm, also known as KNN or k-NN, is a non-parametric, supervised learning classifier, which uses proximity to make classifications or predictions about the grouping of an individual data point."
   ]
  },
  {
   "cell_type": "code",
   "execution_count": null,
   "id": "183a817f",
   "metadata": {},
   "outputs": [],
   "source": [
    "df_knn = pd.read_csv('main_dataframe.csv')\n",
    "df_knn.head(2)"
   ]
  },
  {
   "cell_type": "code",
   "execution_count": null,
   "id": "3dd5ce11",
   "metadata": {},
   "outputs": [],
   "source": [
    "df_knn.columns"
   ]
  },
  {
   "cell_type": "code",
   "execution_count": null,
   "id": "fe0f3b20",
   "metadata": {},
   "outputs": [],
   "source": [
    "# columns taken into account for => dependent variable [\"original_title\"]\n",
    "df_knn_data = df_knn[['id','original_title','genre_name','cast_name','keywords','vote_average']]\n",
    "df_knn_data.head(1)"
   ]
  },
  {
   "cell_type": "code",
   "execution_count": null,
   "id": "e1de4fe1",
   "metadata": {},
   "outputs": [],
   "source": [
    "df_knn_data.shape"
   ]
  },
  {
   "cell_type": "code",
   "execution_count": null,
   "id": "d8bde334",
   "metadata": {},
   "outputs": [],
   "source": [
    "df_knn_data.iloc[0]"
   ]
  },
  {
   "cell_type": "code",
   "execution_count": null,
   "id": "cd2c89a3",
   "metadata": {},
   "outputs": [],
   "source": [
    "for i,j in zip(df_knn_data['genre_name'],df_knn_data.index):\n",
    "    list2=[]\n",
    "    list2=i\n",
    "    # list2.sort()\n",
    "    df_knn_data.loc[j,'genre_name']=str(list2)\n",
    "df_knn_data['genre_name'] = df_knn_data['genre_name'].str.strip('[]').str.replace(' ','').str.replace(\"'\",'')\n",
    "df_knn_data['genre_name'] = df_knn_data['genre_name'].str.split(',')"
   ]
  },
  {
   "cell_type": "code",
   "execution_count": null,
   "id": "504fb93f",
   "metadata": {},
   "outputs": [],
   "source": [
    "# Trying to find a list of unique genres\n",
    "\n",
    "genreList = []\n",
    "for index, row in df_knn_data.iterrows():\n",
    "    genres = row[\"genre_name\"]\n",
    "    \n",
    "    for genre in genres:\n",
    "        if genre not in genreList:\n",
    "            genreList.append(genre)\n",
    "genreList[:10]"
   ]
  },
  {
   "cell_type": "code",
   "execution_count": null,
   "id": "aaa9e2cd",
   "metadata": {},
   "outputs": [],
   "source": [
    "# converting genre_name,keywords,cast_name into binary lists\n",
    "def binary(genre_list):\n",
    "    binaryList = []\n",
    "    \n",
    "    for genre in genreList:\n",
    "        if genre in genre_list:\n",
    "            binaryList.append(1)\n",
    "        else:\n",
    "            binaryList.append(0)\n",
    "    \n",
    "    return binaryList\n",
    "\n",
    "df_knn_data['genres_bin'] = df_knn_data['genre_name'].apply(lambda x: binary(x))"
   ]
  },
  {
   "cell_type": "code",
   "execution_count": null,
   "id": "3052e7a7",
   "metadata": {},
   "outputs": [],
   "source": [
    "df_knn_data['genres_bin'].head(3)"
   ]
  },
  {
   "cell_type": "code",
   "execution_count": null,
   "id": "bb718a29",
   "metadata": {},
   "outputs": [],
   "source": [
    "df_knn_data.isna().sum()"
   ]
  },
  {
   "cell_type": "code",
   "execution_count": null,
   "id": "d53ca6f9",
   "metadata": {},
   "outputs": [],
   "source": [
    "df_knn_data['keywords'] = df_knn_data['keywords'].str.strip('[]').str.replace(' ','').str.replace(\"'\",'').str.replace('\"','')\n",
    "df_knn_data['keywords'] = df_knn_data['keywords'].str.split(',')\n",
    "for i,j in zip(df_knn_data['keywords'],df_knn_data.index):\n",
    "    list2 = []\n",
    "    list2 = i\n",
    "    df_data.loc[j,'keywords'] = str(list2)\n",
    "df_knn_data['keywords'] = df_knn_data['keywords'].str.strip('[]').str.replace(' ','').str.replace(\"'\",'')\n",
    "df_knn_data['keywords'] = df_knn_data['keywords'].str.split(',')\n",
    "for i,j in zip(df_knn_data['keywords'],df_knn_data.index):\n",
    "    list2 = []\n",
    "    list2 = i\n",
    "    # list2.sort()\n",
    "    df_knn_data.loc[j,'keywords'] = str(list2)\n",
    "df_knn_data['keywords'] = df_knn_data['keywords'].str.strip('[]').str.replace(' ','').str.replace(\"'\",'')\n",
    "df_knn_data['keywords'] = df_knn_data['keywords'].str.split(',')"
   ]
  },
  {
   "cell_type": "code",
   "execution_count": null,
   "id": "47b81351",
   "metadata": {},
   "outputs": [],
   "source": [
    "words_list = []\n",
    "for index, row in df_knn_data.iterrows():\n",
    "    genres = row[\"keywords\"]\n",
    "    \n",
    "    for genre in genres:\n",
    "        if genre not in words_list:\n",
    "            words_list.append(genre)"
   ]
  },
  {
   "cell_type": "code",
   "execution_count": null,
   "id": "7b9b9489",
   "metadata": {},
   "outputs": [],
   "source": [
    "def binary(words):\n",
    "    binaryList = []\n",
    "    for genre in words_list:\n",
    "        if genre in words:\n",
    "            binaryList.append(1)\n",
    "        else:\n",
    "            binaryList.append(0)\n",
    "    return binaryList\n",
    "df_knn_data['words_bin'] = df_knn_data['keywords'].apply(lambda x: binary(x))"
   ]
  },
  {
   "cell_type": "code",
   "execution_count": null,
   "id": "28837873",
   "metadata": {},
   "outputs": [],
   "source": [
    "df_knn_data['words_bin'].head(3)"
   ]
  },
  {
   "cell_type": "code",
   "execution_count": null,
   "id": "789f898d",
   "metadata": {},
   "outputs": [],
   "source": [
    "df_knn_data.dropna(inplace=True)"
   ]
  },
  {
   "cell_type": "code",
   "execution_count": null,
   "id": "698b8113",
   "metadata": {},
   "outputs": [],
   "source": [
    "for i,j in zip(df_knn_data['cast_name'],df_knn_data.index):\n",
    "    list2 = []\n",
    "    list2 = i[:4]\n",
    "    df_knn_data.loc[j,'cast_name'] = str(list2)\n",
    "df_knn_data['cast_name'] = df_knn_data['cast_name'].str.strip('[]').str.replace(' ','').str.replace(\"'\",'')\n",
    "df_knn_data['cast_name'] = df_knn_data['cast_name'].str.split(',')\n",
    "for i,j in zip(df_knn_data['cast_name'],df_knn_data.index):\n",
    "    list2 = []\n",
    "    list2 = i\n",
    "    #list2.sort()\n",
    "    df_knn_data.loc[j,'cast_name'] = str(list2)\n",
    "df_knn_data['cast_name']=df_knn_data['cast_name'].str.strip('[]').str.replace(' ','').str.replace(\"'\",'')"
   ]
  },
  {
   "cell_type": "code",
   "execution_count": null,
   "id": "04efc64a",
   "metadata": {},
   "outputs": [],
   "source": [
    "castList = []\n",
    "for index, row in df_knn_data.iterrows():\n",
    "    cast = row[\"cast_name\"]\n",
    "    \n",
    "    for i in cast:\n",
    "        if i not in castList:\n",
    "            castList.append(i)"
   ]
  },
  {
   "cell_type": "code",
   "execution_count": null,
   "id": "b00b5c8f",
   "metadata": {},
   "outputs": [],
   "source": [
    "def binary(cast_list):\n",
    "    binaryList = []\n",
    "    \n",
    "    for genre in castList:\n",
    "        if genre in cast_list:\n",
    "            binaryList.append(1)\n",
    "        else:\n",
    "            binaryList.append(0)\n",
    "    \n",
    "    return binaryList\n",
    "df_knn_data['cast_bin'] = df_knn_data['cast_name'].apply(lambda x: binary(x))"
   ]
  },
  {
   "cell_type": "code",
   "execution_count": null,
   "id": "acade8ff",
   "metadata": {},
   "outputs": [],
   "source": [
    "df_knn_data['cast_bin'].head()"
   ]
  },
  {
   "cell_type": "code",
   "execution_count": null,
   "id": "a5381b2d",
   "metadata": {},
   "outputs": [],
   "source": [
    "new_id = list(range(0,df_knn_data.shape[0]))\n",
    "df_knn_data['new_id']=new_id"
   ]
  },
  {
   "cell_type": "code",
   "execution_count": null,
   "id": "1325559f",
   "metadata": {},
   "outputs": [],
   "source": [
    "df_knn_data.columns"
   ]
  },
  {
   "cell_type": "code",
   "execution_count": null,
   "id": "33e07693",
   "metadata": {},
   "outputs": [],
   "source": [
    "df_knn_data.head()"
   ]
  },
  {
   "cell_type": "code",
   "execution_count": null,
   "id": "aa756af8",
   "metadata": {},
   "outputs": [],
   "source": [
    "# similarity function [ To find the distance] -> For movieid,genre,words,cast\n",
    "from scipy import spatial\n",
    "\n",
    "def Similarity(movieId1, movieId2):\n",
    "    a = df_knn_data.iloc[movieId1]\n",
    "    b = df_knn_data.iloc[movieId2]\n",
    "    \n",
    "    genresA = a['genres_bin']\n",
    "    genresB = b['genres_bin']\n",
    "    \n",
    "    genreDistance = spatial.distance.cosine(genresA, genresB)\n",
    "    \n",
    "    wordsA = a['words_bin']\n",
    "    wordsB = b['words_bin']\n",
    "    wordsDistance = spatial.distance.cosine(wordsA, wordsB)\n",
    "\n",
    "    castA = a['cast_bin']\n",
    "    castB = b['cast_bin']\n",
    "    castDistance = spatial.distance.cosine(castA, castB)\n",
    "\n",
    "    return genreDistance + wordsDistance + castDistance"
   ]
  },
  {
   "cell_type": "code",
   "execution_count": null,
   "id": "8be70adf",
   "metadata": {},
   "outputs": [],
   "source": [
    "from sklearn.metrics import mean_squared_error\n",
    "import operator\n",
    "predicted_value = []\n",
    "def scorePredictor(name):\n",
    "    #name = input('Enter a movie title: ')\n",
    "    new_movie = df_knn_data[df_knn_data['original_title'].str.contains(name)].iloc[0].to_frame().T\n",
    "    print('Selected Movie: ',new_movie.original_title.values[0])\n",
    "    def getNeighbors(baseMovie, K):\n",
    "        distances = []\n",
    "    \n",
    "        for index, movie in df_knn_data.iterrows():\n",
    "            if movie['new_id'] != baseMovie['new_id'].values[0]:\n",
    "                dist = Similarity(baseMovie['new_id'].values[0], movie['new_id'])\n",
    "                distances.append((movie['new_id'], dist))\n",
    "    \n",
    "        distances.sort(key=operator.itemgetter(1))\n",
    "        neighbors = []\n",
    "    \n",
    "        for x in range(K):\n",
    "            neighbors.append(distances[x])\n",
    "        return neighbors\n",
    "\n",
    "    K = 12\n",
    "    avgRating = 0\n",
    "    neighbors = getNeighbors(new_movie, K)\n",
    "    \n",
    "    print('\\nThe Recommended Movies: \\n')\n",
    "    for neighbor in neighbors:\n",
    "        avgRating = avgRating+df_knn_data.iloc[neighbor[0]][5] \n",
    "        print( df_knn_data.iloc[neighbor[0]][1]+\" | Genres: \"+str(df_knn_data.iloc[neighbor[0]][2]).strip('[]').replace(' ',''))\n",
    "\n",
    "# Predicted rating vs actual rating \n",
    "    print('\\n')\n",
    "    avgRating = avgRating/K\n",
    "    print('The predicted rating for %s is: %f' %(new_movie['original_title'].values[0],avgRating))\n",
    "    print('The actual rating for %s is %f' %(new_movie['original_title'].values[0],new_movie['vote_average']))\n",
    "    print(\"*********************************************************************************************************\")\n",
    "    \n",
    "    predicted_value.append(avgRating)\n",
    "    #print(predicted_value)\n",
    "    return predicted_value\n",
    "    \n",
    "# First Lets try giving the name via the function and then make it genric\n",
    "#scorePredictor('Stuart Little')"
   ]
  },
  {
   "cell_type": "code",
   "execution_count": null,
   "id": "ee61dccf",
   "metadata": {},
   "outputs": [],
   "source": [
    "predicted_value = []\n",
    "predicted_avg_rating = df_data['original_title'].iloc[0:5].apply(scorePredictor)[0]\n",
    "predicted_avg_rating_arr = np.array(predicted_avg_rating)\n",
    "actual_rating = df_data.iloc[0:5]['vote_average'].to_numpy()\n",
    "rmse = mean_squared_error(actual_rating,predicted_avg_rating_arr,squared=False)\n",
    "print(\"RMSE value : \",rmse)"
   ]
  },
  {
   "cell_type": "markdown",
   "id": "0b2054c3",
   "metadata": {},
   "source": [
    "<a id=\"content\"></a>\n",
    "# 10.2 Content Based Filtering"
   ]
  },
  {
   "cell_type": "markdown",
   "id": "66a69da6",
   "metadata": {},
   "source": [
    "In content based filtering we **recommend items** to a **user** which are **similar to items the user likes** based on the **properties/attributes of that item.**\n",
    "\n",
    "<img src = \"content_based1.png\" width=\"200\" height=\"200\" >"
   ]
  },
  {
   "cell_type": "code",
   "execution_count": null,
   "id": "28fdae24",
   "metadata": {},
   "outputs": [],
   "source": [
    "from sklearn.feature_extraction.text import CountVectorizer\n",
    "from sklearn.metrics.pairwise import cosine_similarity"
   ]
  },
  {
   "cell_type": "code",
   "execution_count": null,
   "id": "0e6aab19",
   "metadata": {},
   "outputs": [],
   "source": [
    "df_cbf = pd.read_csv('C:/Users/Priyanka/Desktop/PGP-DSE/Capstoneprojectworks/main_data.csv')\n",
    "df_cbf.head(2)"
   ]
  },
  {
   "cell_type": "code",
   "execution_count": null,
   "id": "e533c581",
   "metadata": {},
   "outputs": [],
   "source": [
    "df_cbf.columns"
   ]
  },
  {
   "cell_type": "code",
   "execution_count": null,
   "id": "2d31737b",
   "metadata": {},
   "outputs": [],
   "source": [
    "df_cbf.isna().sum()"
   ]
  },
  {
   "cell_type": "code",
   "execution_count": null,
   "id": "0702e43b",
   "metadata": {},
   "outputs": [],
   "source": [
    "df_cbf1 = df_cbf[['keywords','genre_name','cast_name','crew_name','original_title']]"
   ]
  },
  {
   "cell_type": "code",
   "execution_count": null,
   "id": "b4dce6c3",
   "metadata": {},
   "outputs": [],
   "source": [
    "df_cbf1.shape"
   ]
  },
  {
   "cell_type": "code",
   "execution_count": null,
   "id": "e6ec5d06",
   "metadata": {},
   "outputs": [],
   "source": [
    "print(df_cbf1['genre_name'].nunique())"
   ]
  },
  {
   "cell_type": "code",
   "execution_count": null,
   "id": "1a77d174",
   "metadata": {},
   "outputs": [],
   "source": [
    "df_cbf1['soup']=df_cbf1['keywords']+df_cbf1['genre_name']+df_cbf1['cast_name']+df_cbf1['crew_name']\n",
    "\n",
    "df_cbf1[['original_title', 'soup', 'cast_name', 'keywords', 'genre_name']].head()\n",
    "\n",
    "df2_cbf1 = df_cbf1.iloc[0:20000,:]\n",
    "\n",
    "metadata_cbf=df2_cbf1"
   ]
  },
  {
   "cell_type": "code",
   "execution_count": null,
   "id": "4400e096",
   "metadata": {},
   "outputs": [],
   "source": [
    "metadata_cbf.columns"
   ]
  },
  {
   "cell_type": "code",
   "execution_count": null,
   "id": "08635352",
   "metadata": {},
   "outputs": [],
   "source": [
    "metadata_cbf.shape"
   ]
  },
  {
   "cell_type": "code",
   "execution_count": null,
   "id": "e8b433a9",
   "metadata": {},
   "outputs": [],
   "source": [
    "metadata_cbf.head(10)"
   ]
  },
  {
   "cell_type": "code",
   "execution_count": null,
   "id": "50a67377",
   "metadata": {},
   "outputs": [],
   "source": [
    "# content-based filtering movie-recommendation system\n",
    "\n",
    "movie_title = metadata['original_title']\n",
    "indices = pd.Series(metadata.index, index=metadata['original_title'])\n",
    "\n",
    "def movie_recommendation(movie_name):\n",
    "    count = CountVectorizer(stop_words='english')\n",
    "    count_matrix = count.fit_transform(metadata['soup'])\n",
    "    cosine_sim2 = cosine_similarity(count_matrix, count_matrix)\n",
    "    idx = indices[movie_name]\n",
    "    sim_scores = list(enumerate(cosine_sim2[idx]))\n",
    "    sim_scores = sorted(sim_scores, key=lambda x: x[1], reverse=True)[1:]\n",
    "    sim_scores = sim_scores[1:31]\n",
    "    movie_indices = [i[0] for i in sim_scores]\n",
    "    return movie_title.iloc[movie_indices]\n",
    "    \n",
    "\n",
    "movie_name = input(\"Enter the Movie Title : \")\n",
    "Recommendations = movie_recommendation(movie_name).head(10)\n",
    "Titles = Recommendations.tolist()\n",
    "\n",
    "# We try to give Top 10 similar recommendations to the users:\n",
    "\n",
    "print(\"The Movies Titles are : \\n\")\n",
    "for i in Titles:\n",
    "    print(\"\\n\", i)"
   ]
  },
  {
   "cell_type": "markdown",
   "id": "272801e4",
   "metadata": {},
   "source": [
    "<a id=\"Hybrid\"></a>\n",
    "# 10.3 Hybrid Recommendation System"
   ]
  },
  {
   "cell_type": "code",
   "execution_count": null,
   "id": "cd292c49",
   "metadata": {},
   "outputs": [],
   "source": [
    "from scipy import stats\n",
    "from ast import literal_eval\n",
    "from sklearn.feature_extraction.text import TfidfVectorizer, CountVectorizer\n",
    "from sklearn.metrics.pairwise import linear_kernel, cosine_similarity\n",
    "from nltk.stem.snowball import SnowballStemmer\n",
    "from nltk.stem.wordnet import WordNetLemmatizer\n",
    "from nltk.corpus import wordnet\n",
    "from sklearn.metrics import mean_squared_error\n",
    "\n",
    "#from surprise import Reader, Dataset, SVD, evaluate\n",
    "\n",
    "import warnings; warnings.simplefilter('ignore')"
   ]
  },
  {
   "cell_type": "code",
   "execution_count": null,
   "id": "13d89ccd",
   "metadata": {},
   "outputs": [],
   "source": [
    "df_hyb = pd.read_csv('C:/Users/HP/Desktop/pro/main_dataframe.csv')\n",
    "df_hyb.head(2)"
   ]
  },
  {
   "cell_type": "code",
   "execution_count": null,
   "id": "e5e4b858",
   "metadata": {},
   "outputs": [],
   "source": [
    "df_hyb.shape"
   ]
  },
  {
   "cell_type": "code",
   "execution_count": null,
   "id": "c2593189",
   "metadata": {},
   "outputs": [],
   "source": [
    "links_small = pd.read_csv('links_small.csv')\n",
    "links_small = links_small[links_small['tmdbId'].notnull()]['tmdbId'].astype('int')"
   ]
  },
  {
   "cell_type": "code",
   "execution_count": null,
   "id": "17bdbe90",
   "metadata": {},
   "outputs": [],
   "source": [
    "df_hyb = df_hyb.drop([19730, 29503, 35587])"
   ]
  },
  {
   "cell_type": "code",
   "execution_count": null,
   "id": "ac7c79c6",
   "metadata": {},
   "outputs": [],
   "source": [
    "df_hyb['id'] = df_hyb['id'].astype('int')"
   ]
  },
  {
   "cell_type": "code",
   "execution_count": null,
   "id": "20a2f2ff",
   "metadata": {},
   "outputs": [],
   "source": [
    "smd = df_hyb[df_hyb['id'].isin(links_small)]\n",
    "smd.shape"
   ]
  },
  {
   "cell_type": "code",
   "execution_count": null,
   "id": "e1a4dd19",
   "metadata": {},
   "outputs": [],
   "source": [
    "def convert_int(x):\n",
    "    try:\n",
    "        return int(x)\n",
    "    except:\n",
    "        return np.nan"
   ]
  },
  {
   "cell_type": "code",
   "execution_count": null,
   "id": "e8e33a1d",
   "metadata": {},
   "outputs": [],
   "source": [
    "id_map = pd.read_csv('links_small.csv')[['movieId', 'tmdbId']]\n",
    "id_map.head(2)"
   ]
  },
  {
   "cell_type": "code",
   "execution_count": null,
   "id": "46f5933e",
   "metadata": {},
   "outputs": [],
   "source": [
    "id_map['tmdbId'] = id_map['tmdbId'].apply(convert_int)\n",
    "id_map.columns = ['movieId', 'id']\n",
    "id_map = id_map.merge(df[['original_title', 'id']], on='id')#.set_index('title')"
   ]
  },
  {
   "cell_type": "code",
   "execution_count": null,
   "id": "70ed018a",
   "metadata": {},
   "outputs": [],
   "source": [
    "smd.isnull().sum()"
   ]
  },
  {
   "cell_type": "code",
   "execution_count": null,
   "id": "502e7bbd",
   "metadata": {},
   "outputs": [],
   "source": [
    "keywords = pd.read_csv('keywords.csv')\n",
    "keywords.head(2)"
   ]
  },
  {
   "cell_type": "code",
   "execution_count": null,
   "id": "221d93bd",
   "metadata": {},
   "outputs": [],
   "source": [
    "keywords.dropna(inplace=True)"
   ]
  },
  {
   "cell_type": "code",
   "execution_count": null,
   "id": "2dbb4fb8",
   "metadata": {},
   "outputs": [],
   "source": [
    "keywords['id'] = keywords['id'].astype('int')"
   ]
  },
  {
   "cell_type": "code",
   "execution_count": null,
   "id": "5b61dc3a",
   "metadata": {},
   "outputs": [],
   "source": [
    "df = df.merge(keywords, on='id')"
   ]
  },
  {
   "cell_type": "code",
   "execution_count": null,
   "id": "3a9bc3ce",
   "metadata": {},
   "outputs": [],
   "source": [
    "smd = df_hyb[df_hyb['id'].isin(links_small)]\n",
    "smd.shape"
   ]
  },
  {
   "cell_type": "code",
   "execution_count": null,
   "id": "4b9a293c",
   "metadata": {},
   "outputs": [],
   "source": [
    "smd.isnull().sum()"
   ]
  },
  {
   "cell_type": "code",
   "execution_count": null,
   "id": "46b9261e",
   "metadata": {},
   "outputs": [],
   "source": [
    "smd['keywords_y'] = smd['keywords_y'].apply(literal_eval)"
   ]
  },
  {
   "cell_type": "code",
   "execution_count": null,
   "id": "85e4f611",
   "metadata": {},
   "outputs": [],
   "source": [
    "smd['keywords_y'] = smd['keywords_y'].apply(lambda x: [i['name'] for i in x] if isinstance(x, list) else [])"
   ]
  },
  {
   "cell_type": "code",
   "execution_count": null,
   "id": "56810141",
   "metadata": {},
   "outputs": [],
   "source": [
    "s = smd.apply(lambda x: pd.Series(x['keywords_y']),axis=1).stack().reset_index(level=1, drop=True)\n",
    "s.name = 'keyword'"
   ]
  },
  {
   "cell_type": "code",
   "execution_count": null,
   "id": "f846c134",
   "metadata": {},
   "outputs": [],
   "source": [
    "s = s.value_counts()\n",
    "s[:5]"
   ]
  },
  {
   "cell_type": "code",
   "execution_count": null,
   "id": "12dfebc5",
   "metadata": {},
   "outputs": [],
   "source": [
    "s = s[s > 1]"
   ]
  },
  {
   "cell_type": "code",
   "execution_count": null,
   "id": "ca11ace5",
   "metadata": {},
   "outputs": [],
   "source": [
    "stemmer = SnowballStemmer('english')\n",
    "stemmer.stem('dogs')"
   ]
  },
  {
   "cell_type": "code",
   "execution_count": null,
   "id": "c6ca78dc",
   "metadata": {},
   "outputs": [],
   "source": [
    "def filter_keywords(x):\n",
    "    words = []\n",
    "    for i in x:\n",
    "        if i in s:\n",
    "            words.append(i)\n",
    "    return words"
   ]
  },
  {
   "cell_type": "code",
   "execution_count": null,
   "id": "b36abea2",
   "metadata": {},
   "outputs": [],
   "source": [
    "smd['keywords_y'] = smd['keywords_y'].apply(filter_keywords)\n",
    "smd['keywords_y'] = smd['keywords_y'].apply(lambda x: [stemmer.stem(i) for i in x])\n",
    "smd['keywords)y'] = smd['keywords_y'].apply(lambda x: [str.lower(i.replace(\" \", \"\")) for i in x])"
   ]
  },
  {
   "cell_type": "code",
   "execution_count": null,
   "id": "533b3235",
   "metadata": {},
   "outputs": [],
   "source": [
    "smd.head(3)"
   ]
  },
  {
   "cell_type": "code",
   "execution_count": null,
   "id": "c45d5e99",
   "metadata": {},
   "outputs": [],
   "source": [
    "smd['genre_name'] = smd['genre_name'].apply(literal_eval)\n",
    "smd['cast_name'] = smd['cast_name'].apply(literal_eval)\n",
    "smd['crew_name'] = smd['crew_name'].apply(literal_eval)"
   ]
  },
  {
   "cell_type": "code",
   "execution_count": null,
   "id": "7448fe26",
   "metadata": {},
   "outputs": [],
   "source": [
    "smd['genre_name'][0]"
   ]
  },
  {
   "cell_type": "markdown",
   "id": "5610ac83",
   "metadata": {},
   "source": [
    "<a id=\"hybrid\"></a>\n",
    "# 10.3 Hybrid Recommendation System"
   ]
  },
  {
   "cell_type": "markdown",
   "id": "71159271",
   "metadata": {},
   "source": [
    "<img src='hybrid.png'>"
   ]
  },
  {
   "cell_type": "markdown",
   "id": "1ace424e",
   "metadata": {},
   "source": [
    "### Content-Based Vs Collaborative Filtering"
   ]
  },
  {
   "cell_type": "markdown",
   "id": "1c1f9858",
   "metadata": {},
   "source": [
    "## Content-Based Vs Collaborative Filtering\n",
    "<img src=\"content-collab.png\">"
   ]
  },
  {
   "cell_type": "markdown",
   "id": "9c3693ed",
   "metadata": {},
   "source": [
    "<a id=\"cbfhy\"></a>\n",
    "# 10.3.1 Content Based Filtering"
   ]
  },
  {
   "cell_type": "code",
   "execution_count": null,
   "id": "69104a5c",
   "metadata": {},
   "outputs": [],
   "source": [
    "#Content based filtering\n",
    "smd['soup']=smd['genre_name']+smd['cast_name']+smd['crew_name']+list(smd['keywords_y'])\n",
    "smd['soup'] = smd['soup'].apply(lambda x: ' '.join(x))\n",
    "count = CountVectorizer(analyzer='word',ngram_range=(1, 2),min_df=0, stop_words='english')\n",
    "count_matrix = count.fit_transform(smd['soup'])\n",
    "cosine_sim = cosine_similarity(count_matrix, count_matrix)\n",
    "smd = smd.reset_index()\n",
    "titles = smd['original_title']\n",
    "indices = pd.Series(smd.index, index=smd['original_title'])"
   ]
  },
  {
   "cell_type": "code",
   "execution_count": null,
   "id": "ab7b3351",
   "metadata": {},
   "outputs": [],
   "source": [
    "def get_recommendations(title):\n",
    "    idx = indices[title]\n",
    "    sim_scores = list(enumerate(cosine_sim[idx]))\n",
    "    sim_scores = sorted(sim_scores, key=lambda x: x[1], reverse=True)\n",
    "    sim_scores = sim_scores[1:31]\n",
    "    movie_indices = [i[0] for i in sim_scores]\n",
    "    return titles.iloc[movie_indices]"
   ]
  },
  {
   "cell_type": "code",
   "execution_count": null,
   "id": "e72cea32",
   "metadata": {},
   "outputs": [],
   "source": [
    "title='The Godfather'"
   ]
  },
  {
   "cell_type": "code",
   "execution_count": null,
   "id": "4005ee69",
   "metadata": {},
   "outputs": [],
   "source": [
    "get_recommendations('The Godfather').head(10)"
   ]
  },
  {
   "cell_type": "code",
   "execution_count": null,
   "id": "8f297483",
   "metadata": {},
   "outputs": [],
   "source": [
    "get_recommendations('The Dark Knight').head(10)"
   ]
  },
  {
   "cell_type": "code",
   "execution_count": null,
   "id": "2d1e9c50",
   "metadata": {},
   "outputs": [],
   "source": [
    "smd.drop('collection_name',axis=1,inplace=True)"
   ]
  },
  {
   "cell_type": "markdown",
   "id": "469467a7",
   "metadata": {},
   "source": [
    "<a id=\"cfhy\"></a>\n",
    "# 10.3.2 Collaborative Filtering"
   ]
  },
  {
   "cell_type": "code",
   "execution_count": null,
   "id": "cb347bda",
   "metadata": {},
   "outputs": [],
   "source": [
    "import surprise\n",
    "reader = surprise.Reader()\n",
    "ratings = pd.read_csv('ratings_small.csv')\n",
    "ratings.head()"
   ]
  },
  {
   "cell_type": "code",
   "execution_count": null,
   "id": "3dff0c78",
   "metadata": {},
   "outputs": [],
   "source": [
    "from surprise import SVD,Reader,Dataset\n",
    "from surprise.model_selection import cross_validate\n",
    "from surprise.model_selection import KFold\n",
    "ratings =  pd.read_csv(\"ratings_small.csv\")\n",
    "data = Dataset.load_from_df(ratings[['userId','movieId','rating']],reader)\n",
    "kf = KFold(n_splits=5)\n",
    "kf.split(data)"
   ]
  },
  {
   "cell_type": "code",
   "execution_count": null,
   "id": "cd723527",
   "metadata": {},
   "outputs": [],
   "source": [
    "svd = SVD()\n",
    "cross_validate(svd, data, measures=['RMSE', 'MAE'], cv=5, verbose=True)"
   ]
  },
  {
   "cell_type": "code",
   "execution_count": null,
   "id": "65c0acae",
   "metadata": {},
   "outputs": [],
   "source": [
    "trainset = data.build_full_trainset()\n",
    "svd.fit(trainset)"
   ]
  },
  {
   "cell_type": "code",
   "execution_count": null,
   "id": "d5897b8f",
   "metadata": {},
   "outputs": [],
   "source": [
    "svd.predict(1, 302, 3)"
   ]
  },
  {
   "cell_type": "code",
   "execution_count": null,
   "id": "71bece53",
   "metadata": {},
   "outputs": [],
   "source": [
    "indices_map = id_map.set_index('id')\n",
    "smd.head()"
   ]
  },
  {
   "cell_type": "markdown",
   "id": "1a83cc2b",
   "metadata": {},
   "source": [
    "<a id=\"hfhy\"></a>\n",
    "# 10.3.3 Hybrid Filtering"
   ]
  },
  {
   "cell_type": "markdown",
   "id": "73bca476",
   "metadata": {},
   "source": [
    "<img src='hybrid1.png'>"
   ]
  },
  {
   "cell_type": "code",
   "execution_count": null,
   "id": "e21b33e1",
   "metadata": {},
   "outputs": [],
   "source": [
    "def hybrid(userId, title):\n",
    "    idx = indices[title]\n",
    "    tmdbId = id_map[id_map['original_title'] == title]['id'].values[0]\n",
    "    #print(idx)\n",
    "    movie_id = id_map[id_map['original_title'] == title]['movieId'].values[0]\n",
    "    \n",
    "    sim_scores = list(enumerate(cosine_sim[int(idx)]))\n",
    "    sim_scores = sorted(sim_scores, key=lambda x: x[1], reverse=True)\n",
    "    sim_scores = sim_scores[1:26]\n",
    "    movie_indices = [i[0] for i in sim_scores]\n",
    "    \n",
    "    movies = smd.iloc[movie_indices][['original_title', 'vote_average','genre_name' ,'id']]\n",
    "    movies['est'] = movies['id'].apply(lambda x: svd.predict(userId, indices_map.loc[x]['movieId']).est)\n",
    "    movies = movies.sort_values('est', ascending=False)\n",
    "    return movies.head(10)"
   ]
  },
  {
   "cell_type": "code",
   "execution_count": null,
   "id": "68168806",
   "metadata": {},
   "outputs": [],
   "source": [
    "hybrid(500, 'Father of the Bride Part II')"
   ]
  },
  {
   "cell_type": "code",
   "execution_count": null,
   "id": "3ffab962",
   "metadata": {},
   "outputs": [],
   "source": [
    "id_map[id_map['original_title'] == 'Philomena']"
   ]
  },
  {
   "cell_type": "code",
   "execution_count": null,
   "id": "be40dcc4",
   "metadata": {},
   "outputs": [],
   "source": [
    "r[r['movieId']==106438]['rating'].sum()/r[r['movieId']==106438]['rating'].count()"
   ]
  },
  {
   "cell_type": "code",
   "execution_count": null,
   "id": "a8954515",
   "metadata": {},
   "outputs": [],
   "source": [
    "h=hybrid(500, 'Father of the Bride Part II')['est']\n",
    "rmse=[]"
   ]
  },
  {
   "cell_type": "code",
   "execution_count": null,
   "id": "53719d99",
   "metadata": {},
   "outputs": [],
   "source": [
    "r=pd.read_csv('ratings.csv')\n",
    "smd.to_csv('smd.csv')"
   ]
  },
  {
   "cell_type": "code",
   "execution_count": null,
   "id": "e839af82",
   "metadata": {},
   "outputs": [],
   "source": [
    "for j in range(5):\n",
    "    user=int(input('Enter the user'))\n",
    "    inp=input('Enter the movie')\n",
    "    h=hybrid(user, inp)['est']\n",
    "    li=list(hybrid(user, inp)['original_title'].values)\n",
    "    li1=[]\n",
    "    for i in li:\n",
    "    #print(i)\n",
    "        mov = id_map[id_map['original_title'] == i]['movieId'].values[0]\n",
    "        #print(mov)\n",
    "        li1.append(r[r['movieId']==mov]['rating'].sum()/r[r['movieId']==mov]['rating'].count())\n",
    "    rmse.append(np.sqrt(mean_squared_error(li1,h)))\n",
    "    #print(li1)\n",
    "    #print(h)\n",
    "np.sum(rmse)/5    "
   ]
  }
 ],
 "metadata": {
  "kernelspec": {
   "display_name": "Python 3 (ipykernel)",
   "language": "python",
   "name": "python3"
  },
  "language_info": {
   "codemirror_mode": {
    "name": "ipython",
    "version": 3
   },
   "file_extension": ".py",
   "mimetype": "text/x-python",
   "name": "python",
   "nbconvert_exporter": "python",
   "pygments_lexer": "ipython3",
   "version": "3.9.7"
  },
  "vscode": {
   "interpreter": {
    "hash": "8a6c8994fc5cb661ec93644d3d265534183b7f4a7d339c2cccb0f2c72bae3cc5"
   }
  }
 },
 "nbformat": 4,
 "nbformat_minor": 5
}
